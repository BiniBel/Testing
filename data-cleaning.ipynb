{
 "metadata": {
  "language_info": {
   "codemirror_mode": {
    "name": "ipython",
    "version": 3
   },
   "file_extension": ".py",
   "mimetype": "text/x-python",
   "name": "python",
   "nbconvert_exporter": "python",
   "pygments_lexer": "ipython3",
   "version": "3.8.5"
  },
  "orig_nbformat": 2,
  "kernelspec": {
   "name": "python385jvsc74a57bd05aea97b5e7079df4d68890d4f84dd8e0ffa02e639b0a8d0b006dc5d8cc9ab7eb",
   "display_name": "Python 3.8.5 32-bit"
  },
  "metadata": {
   "interpreter": {
    "hash": "5aea97b5e7079df4d68890d4f84dd8e0ffa02e639b0a8d0b006dc5d8cc9ab7eb"
   }
  }
 },
 "nbformat": 4,
 "nbformat_minor": 2,
 "cells": [
  {
   "cell_type": "code",
   "execution_count": 2,
   "metadata": {},
   "outputs": [],
   "source": [
    "# Import necessary libraries\n",
    "import pandas as pd"
   ]
  },
  {
   "source": [
    "We want to clean and combine all of our various datasets and export it as one CSV. This will primarily involve dropping columns that we aren't interested in and merging onto a central Pandas DataFrame. After some exploratory analysis, we will determine what rows will beed to be dropped or interpolated."
   ],
   "cell_type": "markdown",
   "metadata": {}
  },
  {
   "cell_type": "code",
   "execution_count": 3,
   "metadata": {},
   "outputs": [
    {
     "output_type": "execute_result",
     "data": {
      "text/plain": [
       "   FIPS Code  Percent of adults with less than a high school diploma, 2015-19  \\\n",
       "0          0                                               12.0                 \n",
       "1       1000                                               13.8                 \n",
       "2       1001                                               11.5                 \n",
       "3       1003                                                9.2                 \n",
       "4       1005                                               26.8                 \n",
       "\n",
       "   Percent of adults with a high school diploma only, 2015-19  \\\n",
       "0                                               27.0            \n",
       "1                                               30.8            \n",
       "2                                               33.6            \n",
       "3                                               27.7            \n",
       "4                                               35.6            \n",
       "\n",
       "   Percent of adults completing some college or associate's degree, 2015-19  \\\n",
       "0                                               28.9                          \n",
       "1                                               29.9                          \n",
       "2                                               28.4                          \n",
       "3                                               31.3                          \n",
       "4                                               26.0                          \n",
       "\n",
       "   Percent of adults with a bachelor's degree or higher, 2015-19  \n",
       "0                                               32.1              \n",
       "1                                               25.5              \n",
       "2                                               26.6              \n",
       "3                                               31.9              \n",
       "4                                               11.6              "
      ],
      "text/html": "<div>\n<style scoped>\n    .dataframe tbody tr th:only-of-type {\n        vertical-align: middle;\n    }\n\n    .dataframe tbody tr th {\n        vertical-align: top;\n    }\n\n    .dataframe thead th {\n        text-align: right;\n    }\n</style>\n<table border=\"1\" class=\"dataframe\">\n  <thead>\n    <tr style=\"text-align: right;\">\n      <th></th>\n      <th>FIPS Code</th>\n      <th>Percent of adults with less than a high school diploma, 2015-19</th>\n      <th>Percent of adults with a high school diploma only, 2015-19</th>\n      <th>Percent of adults completing some college or associate's degree, 2015-19</th>\n      <th>Percent of adults with a bachelor's degree or higher, 2015-19</th>\n    </tr>\n  </thead>\n  <tbody>\n    <tr>\n      <th>0</th>\n      <td>0</td>\n      <td>12.0</td>\n      <td>27.0</td>\n      <td>28.9</td>\n      <td>32.1</td>\n    </tr>\n    <tr>\n      <th>1</th>\n      <td>1000</td>\n      <td>13.8</td>\n      <td>30.8</td>\n      <td>29.9</td>\n      <td>25.5</td>\n    </tr>\n    <tr>\n      <th>2</th>\n      <td>1001</td>\n      <td>11.5</td>\n      <td>33.6</td>\n      <td>28.4</td>\n      <td>26.6</td>\n    </tr>\n    <tr>\n      <th>3</th>\n      <td>1003</td>\n      <td>9.2</td>\n      <td>27.7</td>\n      <td>31.3</td>\n      <td>31.9</td>\n    </tr>\n    <tr>\n      <th>4</th>\n      <td>1005</td>\n      <td>26.8</td>\n      <td>35.6</td>\n      <td>26.0</td>\n      <td>11.6</td>\n    </tr>\n  </tbody>\n</table>\n</div>"
     },
     "metadata": {},
     "execution_count": 3
    }
   ],
   "source": [
    "education = pd.read_csv('datasets/raw/Education.csv')\n",
    "education = education[['FIPS Code', 'Percent of adults with less than a high school diploma, 2015-19', 'Percent of adults with a high school diploma only, 2015-19', \"Percent of adults completing some college or associate's degree, 2015-19\", \"Percent of adults with a bachelor's degree or higher, 2015-19\"]]\n",
    "education = education.rename(columns = {'FIPS Code': 'fips'})\n",
    "education.head()"
   ]
  },
  {
   "cell_type": "code",
   "execution_count": 4,
   "metadata": {},
   "outputs": [
    {
     "output_type": "execute_result",
     "data": {
      "text/plain": [
       "Attribute   fips  poverty_percent\n",
       "0              0             12.3\n",
       "1           1000             15.6\n",
       "2           1001             12.1\n",
       "3           1003             10.1\n",
       "4           1005             27.1\n",
       "...          ...              ...\n",
       "3188       56037              8.3\n",
       "3189       56039              6.0\n",
       "3190       56041              8.5\n",
       "3191       56043             11.1\n",
       "3192       56045             10.5\n",
       "\n",
       "[3193 rows x 2 columns]"
      ],
      "text/html": "<div>\n<style scoped>\n    .dataframe tbody tr th:only-of-type {\n        vertical-align: middle;\n    }\n\n    .dataframe tbody tr th {\n        vertical-align: top;\n    }\n\n    .dataframe thead th {\n        text-align: right;\n    }\n</style>\n<table border=\"1\" class=\"dataframe\">\n  <thead>\n    <tr style=\"text-align: right;\">\n      <th>Attribute</th>\n      <th>fips</th>\n      <th>poverty_percent</th>\n    </tr>\n  </thead>\n  <tbody>\n    <tr>\n      <th>0</th>\n      <td>0</td>\n      <td>12.3</td>\n    </tr>\n    <tr>\n      <th>1</th>\n      <td>1000</td>\n      <td>15.6</td>\n    </tr>\n    <tr>\n      <th>2</th>\n      <td>1001</td>\n      <td>12.1</td>\n    </tr>\n    <tr>\n      <th>3</th>\n      <td>1003</td>\n      <td>10.1</td>\n    </tr>\n    <tr>\n      <th>4</th>\n      <td>1005</td>\n      <td>27.1</td>\n    </tr>\n    <tr>\n      <th>...</th>\n      <td>...</td>\n      <td>...</td>\n    </tr>\n    <tr>\n      <th>3188</th>\n      <td>56037</td>\n      <td>8.3</td>\n    </tr>\n    <tr>\n      <th>3189</th>\n      <td>56039</td>\n      <td>6.0</td>\n    </tr>\n    <tr>\n      <th>3190</th>\n      <td>56041</td>\n      <td>8.5</td>\n    </tr>\n    <tr>\n      <th>3191</th>\n      <td>56043</td>\n      <td>11.1</td>\n    </tr>\n    <tr>\n      <th>3192</th>\n      <td>56045</td>\n      <td>10.5</td>\n    </tr>\n  </tbody>\n</table>\n<p>3193 rows × 2 columns</p>\n</div>"
     },
     "metadata": {},
     "execution_count": 4
    }
   ],
   "source": [
    "poverty = pd.read_csv('datasets/raw/PovertyEstimates.csv')\n",
    "poverty = poverty[['FIPStxt', 'Attribute', 'Value']].pivot(index='FIPStxt', columns='Attribute', values='Value').reset_index()\n",
    "poverty = poverty[['FIPStxt', 'PCTPOVALL_2019']].rename(columns = {'FIPStxt':'fips', 'PCTPOVALL_2019': 'poverty_percent'})\n",
    "poverty"
   ]
  },
  {
   "cell_type": "code",
   "execution_count": 5,
   "metadata": {},
   "outputs": [],
   "source": [
    "unemployment = pd.read_csv('datasets/raw/Unemployment.csv').pivot(index='fips_txt', columns='Attribute', values='Value').reset_index().rename(columns = {'fips_txt':'fips'})\n",
    "geography = unemployment[['fips', 'Rural_urban_continuum_code_2013', 'Urban_influence_code_2013']]\n",
    "\n",
    "income = unemployment[['fips', 'Med_HH_Income_Percent_of_State_Total_2019', 'Median_Household_Income_2019']]\n",
    "unemployment = unemployment[['fips', 'Unemployment_rate_2019']]\n"
   ]
  },
  {
   "cell_type": "code",
   "execution_count": 6,
   "metadata": {},
   "outputs": [],
   "source": [
    "vaccine_hesitancy = pd.read_csv('datasets/raw/Vaccine_Hesitancy_for_COVID-19__County_and_local_estimates.csv').rename(columns = {'FIPS Code':'fips'})\n",
    "ethnicity = vaccine_hesitancy[['fips', 'Percent Hispanic', 'Percent non-Hispanic American Indian/Alaska Native', 'Percent non-Hispanic Asian', 'Percent non-Hispanic Black', 'Percent non-Hispanic Native Hawaiian/Pacific Islander', 'Percent non-Hispanic White']]\n",
    "social_vulnerability_index = vaccine_hesitancy[['fips', 'Social Vulnerability Index (SVI)', 'County Name', 'State']]\n",
    "vaccine_hesitancy = vaccine_hesitancy[['fips', 'Estimated hesitant', 'Estimated strongly hesitant']]"
   ]
  },
  {
   "cell_type": "code",
   "execution_count": 9,
   "metadata": {},
   "outputs": [
    {
     "output_type": "error",
     "ename": "KeyError",
     "evalue": "\"None of ['fips'] are in the columns\"",
     "traceback": [
      "\u001b[1;31m---------------------------------------------------------------------------\u001b[0m",
      "\u001b[1;31mKeyError\u001b[0m                                  Traceback (most recent call last)",
      "\u001b[1;32m<ipython-input-9-8333a6e80d7a>\u001b[0m in \u001b[0;36m<module>\u001b[1;34m\u001b[0m\n\u001b[1;32m----> 1\u001b[1;33m \u001b[0mdfs\u001b[0m \u001b[1;33m=\u001b[0m \u001b[1;33m[\u001b[0m\u001b[0mdf\u001b[0m\u001b[1;33m.\u001b[0m\u001b[0mset_index\u001b[0m\u001b[1;33m(\u001b[0m\u001b[1;34m'fips'\u001b[0m\u001b[1;33m)\u001b[0m \u001b[1;32mfor\u001b[0m \u001b[0mdf\u001b[0m \u001b[1;32min\u001b[0m \u001b[1;33m[\u001b[0m\u001b[0mvaccine_hesitancy\u001b[0m\u001b[1;33m,\u001b[0m \u001b[0msocial_vulnerability_index\u001b[0m\u001b[1;33m,\u001b[0m \u001b[0methnicity\u001b[0m\u001b[1;33m,\u001b[0m \u001b[0munemployment\u001b[0m\u001b[1;33m,\u001b[0m \u001b[0mgeography\u001b[0m\u001b[1;33m,\u001b[0m \u001b[0mincome\u001b[0m\u001b[1;33m,\u001b[0m \u001b[0mpoverty\u001b[0m\u001b[1;33m,\u001b[0m \u001b[0meducation\u001b[0m\u001b[1;33m]\u001b[0m\u001b[1;33m]\u001b[0m\u001b[1;33m\u001b[0m\u001b[1;33m\u001b[0m\u001b[0m\n\u001b[0m\u001b[0;32m      2\u001b[0m \u001b[0mpd\u001b[0m\u001b[1;33m.\u001b[0m\u001b[0mconcat\u001b[0m\u001b[1;33m(\u001b[0m\u001b[0mdfs\u001b[0m\u001b[1;33m,\u001b[0m \u001b[0maxis\u001b[0m\u001b[1;33m=\u001b[0m\u001b[1;36m1\u001b[0m\u001b[1;33m)\u001b[0m\u001b[1;33m.\u001b[0m\u001b[0mreset_index\u001b[0m\u001b[1;33m(\u001b[0m\u001b[1;33m)\u001b[0m\u001b[1;33m\u001b[0m\u001b[1;33m\u001b[0m\u001b[0m\n",
      "\u001b[1;32m<ipython-input-9-8333a6e80d7a>\u001b[0m in \u001b[0;36m<listcomp>\u001b[1;34m(.0)\u001b[0m\n\u001b[1;32m----> 1\u001b[1;33m \u001b[0mdfs\u001b[0m \u001b[1;33m=\u001b[0m \u001b[1;33m[\u001b[0m\u001b[0mdf\u001b[0m\u001b[1;33m.\u001b[0m\u001b[0mset_index\u001b[0m\u001b[1;33m(\u001b[0m\u001b[1;34m'fips'\u001b[0m\u001b[1;33m)\u001b[0m \u001b[1;32mfor\u001b[0m \u001b[0mdf\u001b[0m \u001b[1;32min\u001b[0m \u001b[1;33m[\u001b[0m\u001b[0mvaccine_hesitancy\u001b[0m\u001b[1;33m,\u001b[0m \u001b[0msocial_vulnerability_index\u001b[0m\u001b[1;33m,\u001b[0m \u001b[0methnicity\u001b[0m\u001b[1;33m,\u001b[0m \u001b[0munemployment\u001b[0m\u001b[1;33m,\u001b[0m \u001b[0mgeography\u001b[0m\u001b[1;33m,\u001b[0m \u001b[0mincome\u001b[0m\u001b[1;33m,\u001b[0m \u001b[0mpoverty\u001b[0m\u001b[1;33m,\u001b[0m \u001b[0meducation\u001b[0m\u001b[1;33m]\u001b[0m\u001b[1;33m]\u001b[0m\u001b[1;33m\u001b[0m\u001b[1;33m\u001b[0m\u001b[0m\n\u001b[0m\u001b[0;32m      2\u001b[0m \u001b[0mpd\u001b[0m\u001b[1;33m.\u001b[0m\u001b[0mconcat\u001b[0m\u001b[1;33m(\u001b[0m\u001b[0mdfs\u001b[0m\u001b[1;33m,\u001b[0m \u001b[0maxis\u001b[0m\u001b[1;33m=\u001b[0m\u001b[1;36m1\u001b[0m\u001b[1;33m)\u001b[0m\u001b[1;33m.\u001b[0m\u001b[0mreset_index\u001b[0m\u001b[1;33m(\u001b[0m\u001b[1;33m)\u001b[0m\u001b[1;33m\u001b[0m\u001b[1;33m\u001b[0m\u001b[0m\n",
      "\u001b[1;32m~\\AppData\\Local\\Programs\\Python\\Python38-32\\lib\\site-packages\\pandas\\core\\frame.py\u001b[0m in \u001b[0;36mset_index\u001b[1;34m(self, keys, drop, append, inplace, verify_integrity)\u001b[0m\n\u001b[0;32m   4725\u001b[0m \u001b[1;33m\u001b[0m\u001b[0m\n\u001b[0;32m   4726\u001b[0m         \u001b[1;32mif\u001b[0m \u001b[0mmissing\u001b[0m\u001b[1;33m:\u001b[0m\u001b[1;33m\u001b[0m\u001b[1;33m\u001b[0m\u001b[0m\n\u001b[1;32m-> 4727\u001b[1;33m             \u001b[1;32mraise\u001b[0m \u001b[0mKeyError\u001b[0m\u001b[1;33m(\u001b[0m\u001b[1;34mf\"None of {missing} are in the columns\"\u001b[0m\u001b[1;33m)\u001b[0m\u001b[1;33m\u001b[0m\u001b[1;33m\u001b[0m\u001b[0m\n\u001b[0m\u001b[0;32m   4728\u001b[0m \u001b[1;33m\u001b[0m\u001b[0m\n\u001b[0;32m   4729\u001b[0m         \u001b[1;32mif\u001b[0m \u001b[0minplace\u001b[0m\u001b[1;33m:\u001b[0m\u001b[1;33m\u001b[0m\u001b[1;33m\u001b[0m\u001b[0m\n",
      "\u001b[1;31mKeyError\u001b[0m: \"None of ['fips'] are in the columns\""
     ]
    }
   ],
   "source": [
    "dfs = [df.set_index('fips') for df in [vaccine_hesitancy, social_vulnerability_index, ethnicity, unemployment, geography, income, poverty, education]]\n",
    "pd.concat(dfs, axis=1).reset_index()"
   ]
  }
 ]
}