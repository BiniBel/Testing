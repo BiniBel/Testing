{
 "metadata": {
  "language_info": {
   "codemirror_mode": {
    "name": "ipython",
    "version": 3
   },
   "file_extension": ".py",
   "mimetype": "text/x-python",
   "name": "python",
   "nbconvert_exporter": "python",
   "pygments_lexer": "ipython3",
   "version": "3.8.5"
  },
  "orig_nbformat": 2,
  "kernelspec": {
   "name": "python385jvsc74a57bd05aea97b5e7079df4d68890d4f84dd8e0ffa02e639b0a8d0b006dc5d8cc9ab7eb",
   "display_name": "Python 3.8.5 32-bit"
  },
  "metadata": {
   "interpreter": {
    "hash": "5aea97b5e7079df4d68890d4f84dd8e0ffa02e639b0a8d0b006dc5d8cc9ab7eb"
   }
  }
 },
 "nbformat": 4,
 "nbformat_minor": 2,
 "cells": [
  {
   "cell_type": "code",
   "execution_count": 39,
   "metadata": {},
   "outputs": [],
   "source": [
    "# Import necessary libraries\n",
    "import pandas as pd"
   ]
  },
  {
   "source": [
    "We want to clean and combine all of our various datasets and export it as one CSV. This will primarily involve dropping columns that we aren't interested in and merging onto a central Pandas DataFrame. After some exploratory analysis, we will determine what rows will beed to be dropped or interpolated."
   ],
   "cell_type": "markdown",
   "metadata": {}
  },
  {
   "source": [
    "The vaccine hesitancy dataset has values for multiple segments (ethnicity, social vulnerability, vaccine hesitancy), which we will split out into separate variables and look at each. Our primary index of county codes is given by Federal Information Processing Standards (FIPS)."
   ],
   "cell_type": "markdown",
   "metadata": {}
  },
  {
   "cell_type": "code",
   "execution_count": 48,
   "metadata": {},
   "outputs": [
    {
     "output_type": "execute_result",
     "data": {
      "text/plain": [
       "       fips\n",
       "0      1131\n",
       "1      1129\n",
       "2      1133\n",
       "3      1127\n",
       "4      2013\n",
       "...     ...\n",
       "3137  55079\n",
       "3138  55121\n",
       "3139  56001\n",
       "3140  55067\n",
       "3141  55099\n",
       "\n",
       "[3142 rows x 1 columns]"
      ],
      "text/html": "<div>\n<style scoped>\n    .dataframe tbody tr th:only-of-type {\n        vertical-align: middle;\n    }\n\n    .dataframe tbody tr th {\n        vertical-align: top;\n    }\n\n    .dataframe thead th {\n        text-align: right;\n    }\n</style>\n<table border=\"1\" class=\"dataframe\">\n  <thead>\n    <tr style=\"text-align: right;\">\n      <th></th>\n      <th>fips</th>\n    </tr>\n  </thead>\n  <tbody>\n    <tr>\n      <th>0</th>\n      <td>1131</td>\n    </tr>\n    <tr>\n      <th>1</th>\n      <td>1129</td>\n    </tr>\n    <tr>\n      <th>2</th>\n      <td>1133</td>\n    </tr>\n    <tr>\n      <th>3</th>\n      <td>1127</td>\n    </tr>\n    <tr>\n      <th>4</th>\n      <td>2013</td>\n    </tr>\n    <tr>\n      <th>...</th>\n      <td>...</td>\n    </tr>\n    <tr>\n      <th>3137</th>\n      <td>55079</td>\n    </tr>\n    <tr>\n      <th>3138</th>\n      <td>55121</td>\n    </tr>\n    <tr>\n      <th>3139</th>\n      <td>56001</td>\n    </tr>\n    <tr>\n      <th>3140</th>\n      <td>55067</td>\n    </tr>\n    <tr>\n      <th>3141</th>\n      <td>55099</td>\n    </tr>\n  </tbody>\n</table>\n<p>3142 rows × 1 columns</p>\n</div>"
     },
     "metadata": {},
     "execution_count": 48
    }
   ],
   "source": [
    "vaccine_hesitancy = pd.read_csv('datasets/raw/Vaccine_Hesitancy_for_COVID-19__County_and_local_estimates.csv').rename(columns = {'FIPS Code':'fips'})\n",
    "fips = vaccine_hesitancy[['fips']]\n",
    "fips"
   ]
  },
  {
   "source": [
    "Percentage of ethnicity for each county are given. For readability and simplicity, we rename them with the most abundant ethnic group as primary and assume non-Hispanic for all of the non-Hispanic groups."
   ],
   "cell_type": "markdown",
   "metadata": {}
  },
  {
   "cell_type": "code",
   "execution_count": 49,
   "metadata": {},
   "outputs": [
    {
     "output_type": "execute_result",
     "data": {
      "text/plain": [
       "       fips  ethnicity_hispanic  ethnicity_native  ethnicity_asian  \\\n",
       "0      1131              0.0053            0.0009           0.0003   \n",
       "1      1129              0.0146            0.0731           0.0025   \n",
       "2      1133              0.0315            0.0034           0.0016   \n",
       "3      1127              0.0249            0.0015           0.0049   \n",
       "4      2013              0.0901            0.4588           0.1968   \n",
       "...     ...                 ...               ...              ...   \n",
       "3137  55079              0.1500            0.0047           0.0428   \n",
       "3138  55121              0.0840            0.0034           0.0043   \n",
       "3139  56001              0.0953            0.0091           0.0327   \n",
       "3140  55067              0.0197            0.0069           0.0022   \n",
       "3141  55099              0.0177            0.0096           0.0060   \n",
       "\n",
       "      ethnicity_black  ethnicity_hawaiian  ethnicity_white  \n",
       "0              0.6938              0.0000           0.2684  \n",
       "1              0.2354              0.0000           0.6495  \n",
       "2              0.0073              0.0005           0.9370  \n",
       "3              0.0617              0.0000           0.8895  \n",
       "4              0.0322              0.0100           0.1321  \n",
       "...               ...                 ...              ...  \n",
       "3137           0.2606              0.0002           0.5124  \n",
       "3138           0.0051              0.0000           0.8953  \n",
       "3139           0.0150              0.0003           0.8248  \n",
       "3140           0.0125              0.0002           0.9383  \n",
       "3141           0.0083              0.0085           0.9407  \n",
       "\n",
       "[3142 rows x 7 columns]"
      ],
      "text/html": "<div>\n<style scoped>\n    .dataframe tbody tr th:only-of-type {\n        vertical-align: middle;\n    }\n\n    .dataframe tbody tr th {\n        vertical-align: top;\n    }\n\n    .dataframe thead th {\n        text-align: right;\n    }\n</style>\n<table border=\"1\" class=\"dataframe\">\n  <thead>\n    <tr style=\"text-align: right;\">\n      <th></th>\n      <th>fips</th>\n      <th>ethnicity_hispanic</th>\n      <th>ethnicity_native</th>\n      <th>ethnicity_asian</th>\n      <th>ethnicity_black</th>\n      <th>ethnicity_hawaiian</th>\n      <th>ethnicity_white</th>\n    </tr>\n  </thead>\n  <tbody>\n    <tr>\n      <th>0</th>\n      <td>1131</td>\n      <td>0.0053</td>\n      <td>0.0009</td>\n      <td>0.0003</td>\n      <td>0.6938</td>\n      <td>0.0000</td>\n      <td>0.2684</td>\n    </tr>\n    <tr>\n      <th>1</th>\n      <td>1129</td>\n      <td>0.0146</td>\n      <td>0.0731</td>\n      <td>0.0025</td>\n      <td>0.2354</td>\n      <td>0.0000</td>\n      <td>0.6495</td>\n    </tr>\n    <tr>\n      <th>2</th>\n      <td>1133</td>\n      <td>0.0315</td>\n      <td>0.0034</td>\n      <td>0.0016</td>\n      <td>0.0073</td>\n      <td>0.0005</td>\n      <td>0.9370</td>\n    </tr>\n    <tr>\n      <th>3</th>\n      <td>1127</td>\n      <td>0.0249</td>\n      <td>0.0015</td>\n      <td>0.0049</td>\n      <td>0.0617</td>\n      <td>0.0000</td>\n      <td>0.8895</td>\n    </tr>\n    <tr>\n      <th>4</th>\n      <td>2013</td>\n      <td>0.0901</td>\n      <td>0.4588</td>\n      <td>0.1968</td>\n      <td>0.0322</td>\n      <td>0.0100</td>\n      <td>0.1321</td>\n    </tr>\n    <tr>\n      <th>...</th>\n      <td>...</td>\n      <td>...</td>\n      <td>...</td>\n      <td>...</td>\n      <td>...</td>\n      <td>...</td>\n      <td>...</td>\n    </tr>\n    <tr>\n      <th>3137</th>\n      <td>55079</td>\n      <td>0.1500</td>\n      <td>0.0047</td>\n      <td>0.0428</td>\n      <td>0.2606</td>\n      <td>0.0002</td>\n      <td>0.5124</td>\n    </tr>\n    <tr>\n      <th>3138</th>\n      <td>55121</td>\n      <td>0.0840</td>\n      <td>0.0034</td>\n      <td>0.0043</td>\n      <td>0.0051</td>\n      <td>0.0000</td>\n      <td>0.8953</td>\n    </tr>\n    <tr>\n      <th>3139</th>\n      <td>56001</td>\n      <td>0.0953</td>\n      <td>0.0091</td>\n      <td>0.0327</td>\n      <td>0.0150</td>\n      <td>0.0003</td>\n      <td>0.8248</td>\n    </tr>\n    <tr>\n      <th>3140</th>\n      <td>55067</td>\n      <td>0.0197</td>\n      <td>0.0069</td>\n      <td>0.0022</td>\n      <td>0.0125</td>\n      <td>0.0002</td>\n      <td>0.9383</td>\n    </tr>\n    <tr>\n      <th>3141</th>\n      <td>55099</td>\n      <td>0.0177</td>\n      <td>0.0096</td>\n      <td>0.0060</td>\n      <td>0.0083</td>\n      <td>0.0085</td>\n      <td>0.9407</td>\n    </tr>\n  </tbody>\n</table>\n<p>3142 rows × 7 columns</p>\n</div>"
     },
     "metadata": {},
     "execution_count": 49
    }
   ],
   "source": [
    "ethnicity = vaccine_hesitancy[['fips', 'Percent Hispanic', 'Percent non-Hispanic American Indian/Alaska Native', 'Percent non-Hispanic Asian', 'Percent non-Hispanic Black', 'Percent non-Hispanic Native Hawaiian/Pacific Islander', 'Percent non-Hispanic White']].rename(columns = {'Percent Hispanic': 'ethnicity_hispanic', 'Percent non-Hispanic American Indian/Alaska Native': 'ethnicity_native', 'Percent non-Hispanic Asian': 'ethnicity_asian', 'Percent non-Hispanic Black': 'ethnicity_black', 'Percent non-Hispanic Native Hawaiian/Pacific Islander': 'ethnicity_hawaiian', 'Percent non-Hispanic White': 'ethnicity_white'})\n",
    "ethnicity"
   ]
  },
  {
   "cell_type": "code",
   "execution_count": 50,
   "metadata": {},
   "outputs": [
    {
     "output_type": "execute_result",
     "data": {
      "text/plain": [
       "       fips  social_vulnerability_index                     county_name  \\\n",
       "0      1131                        0.93          Wilcox County, Alabama   \n",
       "1      1129                        0.73      Washington County, Alabama   \n",
       "2      1133                        0.70         Winston County, Alabama   \n",
       "3      1127                        0.75          Walker County, Alabama   \n",
       "4      2013                        0.58  Aleutians East Borough, Alaska   \n",
       "...     ...                         ...                             ...   \n",
       "3137  55079                        0.81     Milwaukee County, Wisconsin   \n",
       "3138  55121                        0.28   Trempealeau County, Wisconsin   \n",
       "3139  56001                        0.25          Albany County, Wyoming   \n",
       "3140  55067                        0.35      Langlade County, Wisconsin   \n",
       "3141  55099                        0.16         Price County, Wisconsin   \n",
       "\n",
       "          state  \n",
       "0       ALABAMA  \n",
       "1       ALABAMA  \n",
       "2       ALABAMA  \n",
       "3       ALABAMA  \n",
       "4        ALASKA  \n",
       "...         ...  \n",
       "3137  WISCONSIN  \n",
       "3138  WISCONSIN  \n",
       "3139    WYOMING  \n",
       "3140  WISCONSIN  \n",
       "3141  WISCONSIN  \n",
       "\n",
       "[3142 rows x 4 columns]"
      ],
      "text/html": "<div>\n<style scoped>\n    .dataframe tbody tr th:only-of-type {\n        vertical-align: middle;\n    }\n\n    .dataframe tbody tr th {\n        vertical-align: top;\n    }\n\n    .dataframe thead th {\n        text-align: right;\n    }\n</style>\n<table border=\"1\" class=\"dataframe\">\n  <thead>\n    <tr style=\"text-align: right;\">\n      <th></th>\n      <th>fips</th>\n      <th>social_vulnerability_index</th>\n      <th>county_name</th>\n      <th>state</th>\n    </tr>\n  </thead>\n  <tbody>\n    <tr>\n      <th>0</th>\n      <td>1131</td>\n      <td>0.93</td>\n      <td>Wilcox County, Alabama</td>\n      <td>ALABAMA</td>\n    </tr>\n    <tr>\n      <th>1</th>\n      <td>1129</td>\n      <td>0.73</td>\n      <td>Washington County, Alabama</td>\n      <td>ALABAMA</td>\n    </tr>\n    <tr>\n      <th>2</th>\n      <td>1133</td>\n      <td>0.70</td>\n      <td>Winston County, Alabama</td>\n      <td>ALABAMA</td>\n    </tr>\n    <tr>\n      <th>3</th>\n      <td>1127</td>\n      <td>0.75</td>\n      <td>Walker County, Alabama</td>\n      <td>ALABAMA</td>\n    </tr>\n    <tr>\n      <th>4</th>\n      <td>2013</td>\n      <td>0.58</td>\n      <td>Aleutians East Borough, Alaska</td>\n      <td>ALASKA</td>\n    </tr>\n    <tr>\n      <th>...</th>\n      <td>...</td>\n      <td>...</td>\n      <td>...</td>\n      <td>...</td>\n    </tr>\n    <tr>\n      <th>3137</th>\n      <td>55079</td>\n      <td>0.81</td>\n      <td>Milwaukee County, Wisconsin</td>\n      <td>WISCONSIN</td>\n    </tr>\n    <tr>\n      <th>3138</th>\n      <td>55121</td>\n      <td>0.28</td>\n      <td>Trempealeau County, Wisconsin</td>\n      <td>WISCONSIN</td>\n    </tr>\n    <tr>\n      <th>3139</th>\n      <td>56001</td>\n      <td>0.25</td>\n      <td>Albany County, Wyoming</td>\n      <td>WYOMING</td>\n    </tr>\n    <tr>\n      <th>3140</th>\n      <td>55067</td>\n      <td>0.35</td>\n      <td>Langlade County, Wisconsin</td>\n      <td>WISCONSIN</td>\n    </tr>\n    <tr>\n      <th>3141</th>\n      <td>55099</td>\n      <td>0.16</td>\n      <td>Price County, Wisconsin</td>\n      <td>WISCONSIN</td>\n    </tr>\n  </tbody>\n</table>\n<p>3142 rows × 4 columns</p>\n</div>"
     },
     "metadata": {},
     "execution_count": 50
    }
   ],
   "source": [
    "social_vulnerability_index = vaccine_hesitancy[['fips', 'Social Vulnerability Index (SVI)', 'County Name', 'State']].rename(columns= {'Social Vulnerability Index (SVI)': 'social_vulnerability_index', 'County Name': 'county_name', 'State': 'state'})\n",
    "social_vulnerability_index"
   ]
  },
  {
   "cell_type": "code",
   "execution_count": 51,
   "metadata": {},
   "outputs": [
    {
     "output_type": "execute_result",
     "data": {
      "text/plain": [
       "       fips  vaccine_hesitant  vaccine_hesitant_strong\n",
       "0      1131              0.23                     0.11\n",
       "1      1129              0.23                     0.11\n",
       "2      1133              0.22                     0.11\n",
       "3      1127              0.23                     0.11\n",
       "4      2013              0.26                     0.12\n",
       "...     ...               ...                      ...\n",
       "3137  55079              0.18                     0.11\n",
       "3138  55121              0.18                     0.10\n",
       "3139  56001              0.30                     0.16\n",
       "3140  55067              0.17                     0.10\n",
       "3141  55099              0.17                     0.10\n",
       "\n",
       "[3142 rows x 3 columns]"
      ],
      "text/html": "<div>\n<style scoped>\n    .dataframe tbody tr th:only-of-type {\n        vertical-align: middle;\n    }\n\n    .dataframe tbody tr th {\n        vertical-align: top;\n    }\n\n    .dataframe thead th {\n        text-align: right;\n    }\n</style>\n<table border=\"1\" class=\"dataframe\">\n  <thead>\n    <tr style=\"text-align: right;\">\n      <th></th>\n      <th>fips</th>\n      <th>vaccine_hesitant</th>\n      <th>vaccine_hesitant_strong</th>\n    </tr>\n  </thead>\n  <tbody>\n    <tr>\n      <th>0</th>\n      <td>1131</td>\n      <td>0.23</td>\n      <td>0.11</td>\n    </tr>\n    <tr>\n      <th>1</th>\n      <td>1129</td>\n      <td>0.23</td>\n      <td>0.11</td>\n    </tr>\n    <tr>\n      <th>2</th>\n      <td>1133</td>\n      <td>0.22</td>\n      <td>0.11</td>\n    </tr>\n    <tr>\n      <th>3</th>\n      <td>1127</td>\n      <td>0.23</td>\n      <td>0.11</td>\n    </tr>\n    <tr>\n      <th>4</th>\n      <td>2013</td>\n      <td>0.26</td>\n      <td>0.12</td>\n    </tr>\n    <tr>\n      <th>...</th>\n      <td>...</td>\n      <td>...</td>\n      <td>...</td>\n    </tr>\n    <tr>\n      <th>3137</th>\n      <td>55079</td>\n      <td>0.18</td>\n      <td>0.11</td>\n    </tr>\n    <tr>\n      <th>3138</th>\n      <td>55121</td>\n      <td>0.18</td>\n      <td>0.10</td>\n    </tr>\n    <tr>\n      <th>3139</th>\n      <td>56001</td>\n      <td>0.30</td>\n      <td>0.16</td>\n    </tr>\n    <tr>\n      <th>3140</th>\n      <td>55067</td>\n      <td>0.17</td>\n      <td>0.10</td>\n    </tr>\n    <tr>\n      <th>3141</th>\n      <td>55099</td>\n      <td>0.17</td>\n      <td>0.10</td>\n    </tr>\n  </tbody>\n</table>\n<p>3142 rows × 3 columns</p>\n</div>"
     },
     "metadata": {},
     "execution_count": 51
    }
   ],
   "source": [
    "vaccine_hesitancy = vaccine_hesitancy[['fips', 'Estimated hesitant', 'Estimated strongly hesitant']].rename(columns = {'Estimated hesitant': 'vaccine_hesitant', 'Estimated strongly hesitant': 'vaccine_hesitant_strong'})\n",
    "vaccine_hesitancy"
   ]
  },
  {
   "source": [
    "We keep four columns from the education dataset representing percentage of the entire adult population with specific educational attainment signifiers and make sure to represent all the percentages as decimal values."
   ],
   "cell_type": "markdown",
   "metadata": {}
  },
  {
   "cell_type": "code",
   "execution_count": 41,
   "metadata": {},
   "outputs": [
    {
     "output_type": "execute_result",
     "data": {
      "text/plain": [
       "       fips  education_high_school_less  education_high_school_only  \\\n",
       "0         0                       0.120                       0.270   \n",
       "1      1000                       0.138                       0.308   \n",
       "2      1001                       0.115                       0.336   \n",
       "3      1003                       0.092                       0.277   \n",
       "4      1005                       0.268                       0.356   \n",
       "...     ...                         ...                         ...   \n",
       "3278  72145                       0.284                       0.262   \n",
       "3279  72147                       0.288                       0.392   \n",
       "3280  72149                       0.220                       0.384   \n",
       "3281  72151                       0.290                       0.257   \n",
       "3282  72153                       0.266                       0.333   \n",
       "\n",
       "      education_degree_some  education_bachelors_degree  \n",
       "0                     0.289                       0.321  \n",
       "1                     0.299                       0.255  \n",
       "2                     0.284                       0.266  \n",
       "3                     0.313                       0.319  \n",
       "4                     0.260                       0.116  \n",
       "...                     ...                         ...  \n",
       "3278                  0.241                       0.212  \n",
       "3279                  0.140                       0.180  \n",
       "3280                  0.197                       0.199  \n",
       "3281                  0.272                       0.180  \n",
       "3282                  0.155                       0.246  \n",
       "\n",
       "[3283 rows x 5 columns]"
      ],
      "text/html": "<div>\n<style scoped>\n    .dataframe tbody tr th:only-of-type {\n        vertical-align: middle;\n    }\n\n    .dataframe tbody tr th {\n        vertical-align: top;\n    }\n\n    .dataframe thead th {\n        text-align: right;\n    }\n</style>\n<table border=\"1\" class=\"dataframe\">\n  <thead>\n    <tr style=\"text-align: right;\">\n      <th></th>\n      <th>fips</th>\n      <th>education_high_school_less</th>\n      <th>education_high_school_only</th>\n      <th>education_degree_some</th>\n      <th>education_bachelors_degree</th>\n    </tr>\n  </thead>\n  <tbody>\n    <tr>\n      <th>0</th>\n      <td>0</td>\n      <td>0.120</td>\n      <td>0.270</td>\n      <td>0.289</td>\n      <td>0.321</td>\n    </tr>\n    <tr>\n      <th>1</th>\n      <td>1000</td>\n      <td>0.138</td>\n      <td>0.308</td>\n      <td>0.299</td>\n      <td>0.255</td>\n    </tr>\n    <tr>\n      <th>2</th>\n      <td>1001</td>\n      <td>0.115</td>\n      <td>0.336</td>\n      <td>0.284</td>\n      <td>0.266</td>\n    </tr>\n    <tr>\n      <th>3</th>\n      <td>1003</td>\n      <td>0.092</td>\n      <td>0.277</td>\n      <td>0.313</td>\n      <td>0.319</td>\n    </tr>\n    <tr>\n      <th>4</th>\n      <td>1005</td>\n      <td>0.268</td>\n      <td>0.356</td>\n      <td>0.260</td>\n      <td>0.116</td>\n    </tr>\n    <tr>\n      <th>...</th>\n      <td>...</td>\n      <td>...</td>\n      <td>...</td>\n      <td>...</td>\n      <td>...</td>\n    </tr>\n    <tr>\n      <th>3278</th>\n      <td>72145</td>\n      <td>0.284</td>\n      <td>0.262</td>\n      <td>0.241</td>\n      <td>0.212</td>\n    </tr>\n    <tr>\n      <th>3279</th>\n      <td>72147</td>\n      <td>0.288</td>\n      <td>0.392</td>\n      <td>0.140</td>\n      <td>0.180</td>\n    </tr>\n    <tr>\n      <th>3280</th>\n      <td>72149</td>\n      <td>0.220</td>\n      <td>0.384</td>\n      <td>0.197</td>\n      <td>0.199</td>\n    </tr>\n    <tr>\n      <th>3281</th>\n      <td>72151</td>\n      <td>0.290</td>\n      <td>0.257</td>\n      <td>0.272</td>\n      <td>0.180</td>\n    </tr>\n    <tr>\n      <th>3282</th>\n      <td>72153</td>\n      <td>0.266</td>\n      <td>0.333</td>\n      <td>0.155</td>\n      <td>0.246</td>\n    </tr>\n  </tbody>\n</table>\n<p>3283 rows × 5 columns</p>\n</div>"
     },
     "metadata": {},
     "execution_count": 41
    }
   ],
   "source": [
    "education = pd.read_csv('datasets/raw/Education.csv')\n",
    "education = education[['FIPS Code', 'Percent of adults with less than a high school diploma, 2015-19', 'Percent of adults with a high school diploma only, 2015-19', \"Percent of adults completing some college or associate's degree, 2015-19\", \"Percent of adults with a bachelor's degree or higher, 2015-19\"]]\n",
    "education = education.rename(columns = {'FIPS Code': 'fips', 'Percent of adults with less than a high school diploma, 2015-19': 'education_high_school_less', 'Percent of adults with a high school diploma only, 2015-19': 'education_high_school_only', \"Percent of adults completing some college or associate's degree, 2015-19\": 'education_degree_some', \"Percent of adults with a bachelor's degree or higher, 2015-19\": 'education_bachelors_degree'})\n",
    "education_cols = ['education_high_school_less', 'education_high_school_only', 'education_degree_some', 'education_bachelors_degree']\n",
    "education[education_cols] = education[education_cols].div(100)\n",
    "education"
   ]
  },
  {
   "source": [
    "From the Poverty Estimate dataset, we keep the column of values for the percentage of the entire population that is in poverty in 2019. The data is in a narrow format, so we use pivot and make sure to represent the percentage as a decimal."
   ],
   "cell_type": "markdown",
   "metadata": {}
  },
  {
   "cell_type": "code",
   "execution_count": 42,
   "metadata": {},
   "outputs": [
    {
     "output_type": "execute_result",
     "data": {
      "text/plain": [
       "Attribute   fips  poverty\n",
       "0              0    0.123\n",
       "1           1000    0.156\n",
       "2           1001    0.121\n",
       "3           1003    0.101\n",
       "4           1005    0.271\n",
       "...          ...      ...\n",
       "3188       56037    0.083\n",
       "3189       56039    0.060\n",
       "3190       56041    0.085\n",
       "3191       56043    0.111\n",
       "3192       56045    0.105\n",
       "\n",
       "[3193 rows x 2 columns]"
      ],
      "text/html": "<div>\n<style scoped>\n    .dataframe tbody tr th:only-of-type {\n        vertical-align: middle;\n    }\n\n    .dataframe tbody tr th {\n        vertical-align: top;\n    }\n\n    .dataframe thead th {\n        text-align: right;\n    }\n</style>\n<table border=\"1\" class=\"dataframe\">\n  <thead>\n    <tr style=\"text-align: right;\">\n      <th>Attribute</th>\n      <th>fips</th>\n      <th>poverty</th>\n    </tr>\n  </thead>\n  <tbody>\n    <tr>\n      <th>0</th>\n      <td>0</td>\n      <td>0.123</td>\n    </tr>\n    <tr>\n      <th>1</th>\n      <td>1000</td>\n      <td>0.156</td>\n    </tr>\n    <tr>\n      <th>2</th>\n      <td>1001</td>\n      <td>0.121</td>\n    </tr>\n    <tr>\n      <th>3</th>\n      <td>1003</td>\n      <td>0.101</td>\n    </tr>\n    <tr>\n      <th>4</th>\n      <td>1005</td>\n      <td>0.271</td>\n    </tr>\n    <tr>\n      <th>...</th>\n      <td>...</td>\n      <td>...</td>\n    </tr>\n    <tr>\n      <th>3188</th>\n      <td>56037</td>\n      <td>0.083</td>\n    </tr>\n    <tr>\n      <th>3189</th>\n      <td>56039</td>\n      <td>0.060</td>\n    </tr>\n    <tr>\n      <th>3190</th>\n      <td>56041</td>\n      <td>0.085</td>\n    </tr>\n    <tr>\n      <th>3191</th>\n      <td>56043</td>\n      <td>0.111</td>\n    </tr>\n    <tr>\n      <th>3192</th>\n      <td>56045</td>\n      <td>0.105</td>\n    </tr>\n  </tbody>\n</table>\n<p>3193 rows × 2 columns</p>\n</div>"
     },
     "metadata": {},
     "execution_count": 42
    }
   ],
   "source": [
    "poverty = pd.read_csv('datasets/raw/PovertyEstimates.csv')\n",
    "poverty = poverty[['FIPStxt', 'Attribute', 'Value']].pivot(index='FIPStxt', columns='Attribute', values='Value').reset_index()\n",
    "poverty = poverty[['FIPStxt', 'PCTPOVALL_2019']].rename(columns = {'FIPStxt':'fips', 'PCTPOVALL_2019': 'poverty'})\n",
    "poverty['poverty'] = poverty['poverty'].div(100)\n",
    "poverty"
   ]
  },
  {
   "cell_type": "code",
   "execution_count": 43,
   "metadata": {},
   "outputs": [
    {
     "output_type": "execute_result",
     "data": {
      "text/plain": [
       "                                                 Notes   County of Residence  \\\n",
       "0                                                  NaN    Baldwin County, AL   \n",
       "1                                                  NaN    Calhoun County, AL   \n",
       "2                                                  NaN     Etowah County, AL   \n",
       "3                                                  NaN    Houston County, AL   \n",
       "4                                                  NaN  Jefferson County, AL   \n",
       "..                                                 ...                   ...   \n",
       "666  7. Bronx, New York (FIPS code 36005) represent...                   NaN   \n",
       "667  8. Kings County, New York (FIPS code 36047) re...                   NaN   \n",
       "668  9. New York County, New York (FIPS code 36061)...                   NaN   \n",
       "669  10. Queens, New York (FIPS code 36081) represe...                   NaN   \n",
       "670  11. Richmond County, New York (FIPS code 36085...                   NaN   \n",
       "\n",
       "     County of Residence Code  Births  Total Population  Birth Rate  \n",
       "0                      1003.0  2329.0          223234.0      10.433  \n",
       "1                      1015.0  1383.0          113605.0      12.174  \n",
       "2                      1055.0  1236.0          102268.0      12.086  \n",
       "3                      1069.0  1336.0          105882.0      12.618  \n",
       "4                      1073.0  8481.0          658573.0      12.878  \n",
       "..                        ...     ...               ...         ...  \n",
       "666                       NaN     NaN               NaN         NaN  \n",
       "667                       NaN     NaN               NaN         NaN  \n",
       "668                       NaN     NaN               NaN         NaN  \n",
       "669                       NaN     NaN               NaN         NaN  \n",
       "670                       NaN     NaN               NaN         NaN  \n",
       "\n",
       "[671 rows x 6 columns]"
      ],
      "text/html": "<div>\n<style scoped>\n    .dataframe tbody tr th:only-of-type {\n        vertical-align: middle;\n    }\n\n    .dataframe tbody tr th {\n        vertical-align: top;\n    }\n\n    .dataframe thead th {\n        text-align: right;\n    }\n</style>\n<table border=\"1\" class=\"dataframe\">\n  <thead>\n    <tr style=\"text-align: right;\">\n      <th></th>\n      <th>Notes</th>\n      <th>County of Residence</th>\n      <th>County of Residence Code</th>\n      <th>Births</th>\n      <th>Total Population</th>\n      <th>Birth Rate</th>\n    </tr>\n  </thead>\n  <tbody>\n    <tr>\n      <th>0</th>\n      <td>NaN</td>\n      <td>Baldwin County, AL</td>\n      <td>1003.0</td>\n      <td>2329.0</td>\n      <td>223234.0</td>\n      <td>10.433</td>\n    </tr>\n    <tr>\n      <th>1</th>\n      <td>NaN</td>\n      <td>Calhoun County, AL</td>\n      <td>1015.0</td>\n      <td>1383.0</td>\n      <td>113605.0</td>\n      <td>12.174</td>\n    </tr>\n    <tr>\n      <th>2</th>\n      <td>NaN</td>\n      <td>Etowah County, AL</td>\n      <td>1055.0</td>\n      <td>1236.0</td>\n      <td>102268.0</td>\n      <td>12.086</td>\n    </tr>\n    <tr>\n      <th>3</th>\n      <td>NaN</td>\n      <td>Houston County, AL</td>\n      <td>1069.0</td>\n      <td>1336.0</td>\n      <td>105882.0</td>\n      <td>12.618</td>\n    </tr>\n    <tr>\n      <th>4</th>\n      <td>NaN</td>\n      <td>Jefferson County, AL</td>\n      <td>1073.0</td>\n      <td>8481.0</td>\n      <td>658573.0</td>\n      <td>12.878</td>\n    </tr>\n    <tr>\n      <th>...</th>\n      <td>...</td>\n      <td>...</td>\n      <td>...</td>\n      <td>...</td>\n      <td>...</td>\n      <td>...</td>\n    </tr>\n    <tr>\n      <th>666</th>\n      <td>7. Bronx, New York (FIPS code 36005) represent...</td>\n      <td>NaN</td>\n      <td>NaN</td>\n      <td>NaN</td>\n      <td>NaN</td>\n      <td>NaN</td>\n    </tr>\n    <tr>\n      <th>667</th>\n      <td>8. Kings County, New York (FIPS code 36047) re...</td>\n      <td>NaN</td>\n      <td>NaN</td>\n      <td>NaN</td>\n      <td>NaN</td>\n      <td>NaN</td>\n    </tr>\n    <tr>\n      <th>668</th>\n      <td>9. New York County, New York (FIPS code 36061)...</td>\n      <td>NaN</td>\n      <td>NaN</td>\n      <td>NaN</td>\n      <td>NaN</td>\n      <td>NaN</td>\n    </tr>\n    <tr>\n      <th>669</th>\n      <td>10. Queens, New York (FIPS code 36081) represe...</td>\n      <td>NaN</td>\n      <td>NaN</td>\n      <td>NaN</td>\n      <td>NaN</td>\n      <td>NaN</td>\n    </tr>\n    <tr>\n      <th>670</th>\n      <td>11. Richmond County, New York (FIPS code 36085...</td>\n      <td>NaN</td>\n      <td>NaN</td>\n      <td>NaN</td>\n      <td>NaN</td>\n      <td>NaN</td>\n    </tr>\n  </tbody>\n</table>\n<p>671 rows × 6 columns</p>\n</div>"
     },
     "metadata": {},
     "execution_count": 43
    }
   ],
   "source": [
    "natality = pd.read_csv('datasets/raw/Natality, 2016-2019 expanded.txt', sep='\\t')\n",
    "natality\n",
    "# TODO: get full county birth rate data"
   ]
  },
  {
   "cell_type": "code",
   "execution_count": 44,
   "metadata": {},
   "outputs": [
    {
     "output_type": "execute_result",
     "data": {
      "text/plain": [
       "                    party\n",
       "FIPS    value            \n",
       "1001.0  democrat        5\n",
       "        green           1\n",
       "        republican      5\n",
       "1003.0  democrat        5\n",
       "        green           1\n",
       "...                   ...\n",
       "56043.0 green           1\n",
       "        republican      5\n",
       "56045.0 democrat        5\n",
       "        green           1\n",
       "        republican      5\n",
       "\n",
       "[9464 rows x 1 columns]"
      ],
      "text/html": "<div>\n<style scoped>\n    .dataframe tbody tr th:only-of-type {\n        vertical-align: middle;\n    }\n\n    .dataframe tbody tr th {\n        vertical-align: top;\n    }\n\n    .dataframe thead th {\n        text-align: right;\n    }\n</style>\n<table border=\"1\" class=\"dataframe\">\n  <thead>\n    <tr style=\"text-align: right;\">\n      <th></th>\n      <th></th>\n      <th>party</th>\n    </tr>\n    <tr>\n      <th>FIPS</th>\n      <th>value</th>\n      <th></th>\n    </tr>\n  </thead>\n  <tbody>\n    <tr>\n      <th rowspan=\"3\" valign=\"top\">1001.0</th>\n      <th>democrat</th>\n      <td>5</td>\n    </tr>\n    <tr>\n      <th>green</th>\n      <td>1</td>\n    </tr>\n    <tr>\n      <th>republican</th>\n      <td>5</td>\n    </tr>\n    <tr>\n      <th rowspan=\"2\" valign=\"top\">1003.0</th>\n      <th>democrat</th>\n      <td>5</td>\n    </tr>\n    <tr>\n      <th>green</th>\n      <td>1</td>\n    </tr>\n    <tr>\n      <th>...</th>\n      <th>...</th>\n      <td>...</td>\n    </tr>\n    <tr>\n      <th rowspan=\"2\" valign=\"top\">56043.0</th>\n      <th>green</th>\n      <td>1</td>\n    </tr>\n    <tr>\n      <th>republican</th>\n      <td>5</td>\n    </tr>\n    <tr>\n      <th rowspan=\"3\" valign=\"top\">56045.0</th>\n      <th>democrat</th>\n      <td>5</td>\n    </tr>\n    <tr>\n      <th>green</th>\n      <td>1</td>\n    </tr>\n    <tr>\n      <th>republican</th>\n      <td>5</td>\n    </tr>\n  </tbody>\n</table>\n<p>9464 rows × 1 columns</p>\n</div>"
     },
     "metadata": {},
     "execution_count": 44
    }
   ],
   "source": [
    "elections = pd.read_csv('datasets/raw/countypres_2000-2016.tab', sep='\\t')\n",
    "elections = pd.melt(elections, id_vars='FIPS', var_name='party', value_vars='party')\n",
    "elections['FIPS'].unique()\n",
    "elections.groupby(['FIPS', 'value']).count()\n",
    "# TODO: check amount if results are available at all county levels"
   ]
  },
  {
   "source": [
    "From the Unemployment dataset, we have several useful data points involving geography (rural vs urban continuum code, urban influence code), income (median household, and represented as a percent of median state total) and unemployment rate."
   ],
   "cell_type": "markdown",
   "metadata": {}
  },
  {
   "cell_type": "code",
   "execution_count": 54,
   "metadata": {},
   "outputs": [
    {
     "output_type": "execute_result",
     "data": {
      "text/plain": [
       "Attribute   fips  rural_urban_code  urban_influence_code\n",
       "0              0               NaN                   NaN\n",
       "1           1000               NaN                   NaN\n",
       "2           1001               2.0                   2.0\n",
       "3           1003               3.0                   2.0\n",
       "4           1005               6.0                   6.0\n",
       "...          ...               ...                   ...\n",
       "3270       72145               1.0                   1.0\n",
       "3271       72147               7.0                  12.0\n",
       "3272       72149               2.0                   2.0\n",
       "3273       72151               1.0                   1.0\n",
       "3274       72153               2.0                   2.0\n",
       "\n",
       "[3275 rows x 3 columns]"
      ],
      "text/html": "<div>\n<style scoped>\n    .dataframe tbody tr th:only-of-type {\n        vertical-align: middle;\n    }\n\n    .dataframe tbody tr th {\n        vertical-align: top;\n    }\n\n    .dataframe thead th {\n        text-align: right;\n    }\n</style>\n<table border=\"1\" class=\"dataframe\">\n  <thead>\n    <tr style=\"text-align: right;\">\n      <th>Attribute</th>\n      <th>fips</th>\n      <th>rural_urban_code</th>\n      <th>urban_influence_code</th>\n    </tr>\n  </thead>\n  <tbody>\n    <tr>\n      <th>0</th>\n      <td>0</td>\n      <td>NaN</td>\n      <td>NaN</td>\n    </tr>\n    <tr>\n      <th>1</th>\n      <td>1000</td>\n      <td>NaN</td>\n      <td>NaN</td>\n    </tr>\n    <tr>\n      <th>2</th>\n      <td>1001</td>\n      <td>2.0</td>\n      <td>2.0</td>\n    </tr>\n    <tr>\n      <th>3</th>\n      <td>1003</td>\n      <td>3.0</td>\n      <td>2.0</td>\n    </tr>\n    <tr>\n      <th>4</th>\n      <td>1005</td>\n      <td>6.0</td>\n      <td>6.0</td>\n    </tr>\n    <tr>\n      <th>...</th>\n      <td>...</td>\n      <td>...</td>\n      <td>...</td>\n    </tr>\n    <tr>\n      <th>3270</th>\n      <td>72145</td>\n      <td>1.0</td>\n      <td>1.0</td>\n    </tr>\n    <tr>\n      <th>3271</th>\n      <td>72147</td>\n      <td>7.0</td>\n      <td>12.0</td>\n    </tr>\n    <tr>\n      <th>3272</th>\n      <td>72149</td>\n      <td>2.0</td>\n      <td>2.0</td>\n    </tr>\n    <tr>\n      <th>3273</th>\n      <td>72151</td>\n      <td>1.0</td>\n      <td>1.0</td>\n    </tr>\n    <tr>\n      <th>3274</th>\n      <td>72153</td>\n      <td>2.0</td>\n      <td>2.0</td>\n    </tr>\n  </tbody>\n</table>\n<p>3275 rows × 3 columns</p>\n</div>"
     },
     "metadata": {},
     "execution_count": 54
    }
   ],
   "source": [
    "unemployment = pd.read_csv('datasets/raw/Unemployment.csv').pivot(index='fips_txt', columns='Attribute', values='Value').reset_index().rename(columns = {'fips_txt':'fips'})\n",
    "geography = unemployment[['fips', 'Rural_urban_continuum_code_2013', 'Urban_influence_code_2013']].rename(columns={'Rural_urban_continuum_code_2013': 'rural_urban_code', 'Urban_influence_code_2013': 'urban_influence_code'})\n",
    "# TODO: convert urban/rural codes into z-scores\n",
    "geography"
   ]
  },
  {
   "source": [
    "To look at the county's economic factors, we keep two columns representing the estimated median household income in 2019 and the county household median income as a percent of the state total median household income. We represent this percent as a decimal."
   ],
   "cell_type": "markdown",
   "metadata": {}
  },
  {
   "cell_type": "code",
   "execution_count": 55,
   "metadata": {},
   "outputs": [
    {
     "output_type": "execute_result",
     "data": {
      "text/plain": [
       "Attribute   fips  median_income_percent_state  median_income\n",
       "0              0                          NaN        65712.0\n",
       "1           1000                     1.000000        51771.0\n",
       "2           1001                     1.124819        58233.0\n",
       "3           1003                     1.156458        59871.0\n",
       "4           1005                     0.694829        35972.0\n",
       "...          ...                          ...            ...\n",
       "3270       72145                          NaN            NaN\n",
       "3271       72147                          NaN            NaN\n",
       "3272       72149                          NaN            NaN\n",
       "3273       72151                          NaN            NaN\n",
       "3274       72153                          NaN            NaN\n",
       "\n",
       "[3275 rows x 3 columns]"
      ],
      "text/html": "<div>\n<style scoped>\n    .dataframe tbody tr th:only-of-type {\n        vertical-align: middle;\n    }\n\n    .dataframe tbody tr th {\n        vertical-align: top;\n    }\n\n    .dataframe thead th {\n        text-align: right;\n    }\n</style>\n<table border=\"1\" class=\"dataframe\">\n  <thead>\n    <tr style=\"text-align: right;\">\n      <th>Attribute</th>\n      <th>fips</th>\n      <th>median_income_percent_state</th>\n      <th>median_income</th>\n    </tr>\n  </thead>\n  <tbody>\n    <tr>\n      <th>0</th>\n      <td>0</td>\n      <td>NaN</td>\n      <td>65712.0</td>\n    </tr>\n    <tr>\n      <th>1</th>\n      <td>1000</td>\n      <td>1.000000</td>\n      <td>51771.0</td>\n    </tr>\n    <tr>\n      <th>2</th>\n      <td>1001</td>\n      <td>1.124819</td>\n      <td>58233.0</td>\n    </tr>\n    <tr>\n      <th>3</th>\n      <td>1003</td>\n      <td>1.156458</td>\n      <td>59871.0</td>\n    </tr>\n    <tr>\n      <th>4</th>\n      <td>1005</td>\n      <td>0.694829</td>\n      <td>35972.0</td>\n    </tr>\n    <tr>\n      <th>...</th>\n      <td>...</td>\n      <td>...</td>\n      <td>...</td>\n    </tr>\n    <tr>\n      <th>3270</th>\n      <td>72145</td>\n      <td>NaN</td>\n      <td>NaN</td>\n    </tr>\n    <tr>\n      <th>3271</th>\n      <td>72147</td>\n      <td>NaN</td>\n      <td>NaN</td>\n    </tr>\n    <tr>\n      <th>3272</th>\n      <td>72149</td>\n      <td>NaN</td>\n      <td>NaN</td>\n    </tr>\n    <tr>\n      <th>3273</th>\n      <td>72151</td>\n      <td>NaN</td>\n      <td>NaN</td>\n    </tr>\n    <tr>\n      <th>3274</th>\n      <td>72153</td>\n      <td>NaN</td>\n      <td>NaN</td>\n    </tr>\n  </tbody>\n</table>\n<p>3275 rows × 3 columns</p>\n</div>"
     },
     "metadata": {},
     "execution_count": 55
    }
   ],
   "source": [
    "income = unemployment[['fips', 'Med_HH_Income_Percent_of_State_Total_2019', 'Median_Household_Income_2019']].rename(columns={'Med_HH_Income_Percent_of_State_Total_2019': 'median_income_percent_state', 'Median_Household_Income_2019': 'median_income'})\n",
    "income['median_income_percent_state'] = income['median_income_percent_state'].div(100)\n",
    "income"
   ]
  },
  {
   "cell_type": "code",
   "execution_count": 56,
   "metadata": {},
   "outputs": [
    {
     "output_type": "execute_result",
     "data": {
      "text/plain": [
       "Attribute   fips  unemployment\n",
       "0              0      0.036694\n",
       "1           1000      0.030000\n",
       "2           1001      0.027000\n",
       "3           1003      0.027000\n",
       "4           1005      0.038000\n",
       "...          ...           ...\n",
       "3270       72145      0.096000\n",
       "3271       72147      0.069000\n",
       "3272       72149      0.159000\n",
       "3273       72151      0.131000\n",
       "3274       72153      0.146000\n",
       "\n",
       "[3275 rows x 2 columns]"
      ],
      "text/html": "<div>\n<style scoped>\n    .dataframe tbody tr th:only-of-type {\n        vertical-align: middle;\n    }\n\n    .dataframe tbody tr th {\n        vertical-align: top;\n    }\n\n    .dataframe thead th {\n        text-align: right;\n    }\n</style>\n<table border=\"1\" class=\"dataframe\">\n  <thead>\n    <tr style=\"text-align: right;\">\n      <th>Attribute</th>\n      <th>fips</th>\n      <th>unemployment</th>\n    </tr>\n  </thead>\n  <tbody>\n    <tr>\n      <th>0</th>\n      <td>0</td>\n      <td>0.036694</td>\n    </tr>\n    <tr>\n      <th>1</th>\n      <td>1000</td>\n      <td>0.030000</td>\n    </tr>\n    <tr>\n      <th>2</th>\n      <td>1001</td>\n      <td>0.027000</td>\n    </tr>\n    <tr>\n      <th>3</th>\n      <td>1003</td>\n      <td>0.027000</td>\n    </tr>\n    <tr>\n      <th>4</th>\n      <td>1005</td>\n      <td>0.038000</td>\n    </tr>\n    <tr>\n      <th>...</th>\n      <td>...</td>\n      <td>...</td>\n    </tr>\n    <tr>\n      <th>3270</th>\n      <td>72145</td>\n      <td>0.096000</td>\n    </tr>\n    <tr>\n      <th>3271</th>\n      <td>72147</td>\n      <td>0.069000</td>\n    </tr>\n    <tr>\n      <th>3272</th>\n      <td>72149</td>\n      <td>0.159000</td>\n    </tr>\n    <tr>\n      <th>3273</th>\n      <td>72151</td>\n      <td>0.131000</td>\n    </tr>\n    <tr>\n      <th>3274</th>\n      <td>72153</td>\n      <td>0.146000</td>\n    </tr>\n  </tbody>\n</table>\n<p>3275 rows × 2 columns</p>\n</div>"
     },
     "metadata": {},
     "execution_count": 56
    }
   ],
   "source": [
    "unemployment = unemployment[['fips', 'Unemployment_rate_2019']].rename(columns={'Unemployment_rate_2019': 'unemployment'})\n",
    "unemployment['unemployment'] = unemployment['unemployment'].div(100)\n",
    "unemployment"
   ]
  },
  {
   "source": [
    "We set the fips as index for all of our dataframes and then concatenate them along it with an inner join. We note that there's only one row that was lost."
   ],
   "cell_type": "markdown",
   "metadata": {}
  },
  {
   "cell_type": "code",
   "execution_count": 31,
   "metadata": {},
   "outputs": [
    {
     "output_type": "execute_result",
     "data": {
      "text/plain": [
       "       fips  vaccine_hesitant  vaccine_hesitant_strong  \\\n",
       "0      1131              0.23                     0.11   \n",
       "1      1129              0.23                     0.11   \n",
       "2      1133              0.22                     0.11   \n",
       "3      1127              0.23                     0.11   \n",
       "4      2013              0.26                     0.12   \n",
       "...     ...               ...                      ...   \n",
       "3136  55079              0.18                     0.11   \n",
       "3137  55121              0.18                     0.10   \n",
       "3138  56001              0.30                     0.16   \n",
       "3139  55067              0.17                     0.10   \n",
       "3140  55099              0.17                     0.10   \n",
       "\n",
       "      social_vulnerability_index                     county_name      state  \\\n",
       "0                           0.93          Wilcox County, Alabama    ALABAMA   \n",
       "1                           0.73      Washington County, Alabama    ALABAMA   \n",
       "2                           0.70         Winston County, Alabama    ALABAMA   \n",
       "3                           0.75          Walker County, Alabama    ALABAMA   \n",
       "4                           0.58  Aleutians East Borough, Alaska     ALASKA   \n",
       "...                          ...                             ...        ...   \n",
       "3136                        0.81     Milwaukee County, Wisconsin  WISCONSIN   \n",
       "3137                        0.28   Trempealeau County, Wisconsin  WISCONSIN   \n",
       "3138                        0.25          Albany County, Wyoming    WYOMING   \n",
       "3139                        0.35      Langlade County, Wisconsin  WISCONSIN   \n",
       "3140                        0.16         Price County, Wisconsin  WISCONSIN   \n",
       "\n",
       "      ethnicity_hispanic  ethnicity_native  ethnicity_asian  ethnicity_black  \\\n",
       "0                 0.0053            0.0009           0.0003           0.6938   \n",
       "1                 0.0146            0.0731           0.0025           0.2354   \n",
       "2                 0.0315            0.0034           0.0016           0.0073   \n",
       "3                 0.0249            0.0015           0.0049           0.0617   \n",
       "4                 0.0901            0.4588           0.1968           0.0322   \n",
       "...                  ...               ...              ...              ...   \n",
       "3136              0.1500            0.0047           0.0428           0.2606   \n",
       "3137              0.0840            0.0034           0.0043           0.0051   \n",
       "3138              0.0953            0.0091           0.0327           0.0150   \n",
       "3139              0.0197            0.0069           0.0022           0.0125   \n",
       "3140              0.0177            0.0096           0.0060           0.0083   \n",
       "\n",
       "      ...  unemployment  rural_urban_code  urban_influence_code  \\\n",
       "0     ...         0.071               9.0                  10.0   \n",
       "1     ...         0.046               8.0                   7.0   \n",
       "2     ...         0.033               6.0                   4.0   \n",
       "3     ...         0.033               1.0                   1.0   \n",
       "4     ...         0.028               9.0                  12.0   \n",
       "...   ...           ...               ...                   ...   \n",
       "3136  ...         0.040               1.0                   1.0   \n",
       "3137  ...         0.036               6.0                   6.0   \n",
       "3138  ...         0.031               4.0                   5.0   \n",
       "3139  ...         0.042               6.0                   6.0   \n",
       "3140  ...         0.044               9.0                  12.0   \n",
       "\n",
       "      median_income_percent_state  median_income  poverty  \\\n",
       "0                        0.598752        30998.0    0.325   \n",
       "1                        0.943849        48864.0    0.186   \n",
       "2                        0.788608        40827.0    0.167   \n",
       "3                        0.888354        45991.0    0.173   \n",
       "4                        0.866845        66923.0    0.148   \n",
       "...                           ...            ...      ...   \n",
       "3136                     0.833710        53505.0    0.169   \n",
       "3137                     0.961201        61687.0    0.089   \n",
       "3138                     0.789334        52216.0    0.160   \n",
       "3139                     0.772816        49597.0    0.130   \n",
       "3140                     0.759789        48761.0    0.149   \n",
       "\n",
       "      education_high_school_less  education_high_school_only  \\\n",
       "0                          0.235                       0.395   \n",
       "1                          0.174                       0.431   \n",
       "2                          0.212                       0.382   \n",
       "3                          0.182                       0.375   \n",
       "4                          0.145                       0.435   \n",
       "...                          ...                         ...   \n",
       "3136                       0.117                       0.284   \n",
       "3137                       0.093                       0.390   \n",
       "3138                       0.041                       0.147   \n",
       "3139                       0.097                       0.423   \n",
       "3140                       0.082                       0.404   \n",
       "\n",
       "      education_degree_some  education_bachelors_degree  \n",
       "0                     0.245                       0.125  \n",
       "1                     0.269                       0.127  \n",
       "2                     0.278                       0.128  \n",
       "3                     0.330                       0.113  \n",
       "4                     0.305                       0.115  \n",
       "...                     ...                         ...  \n",
       "3136                  0.290                       0.310  \n",
       "3137                  0.324                       0.193  \n",
       "3138                  0.295                       0.518  \n",
       "3139                  0.313                       0.167  \n",
       "3140                  0.349                       0.165  \n",
       "\n",
       "[3141 rows x 22 columns]"
      ],
      "text/html": "<div>\n<style scoped>\n    .dataframe tbody tr th:only-of-type {\n        vertical-align: middle;\n    }\n\n    .dataframe tbody tr th {\n        vertical-align: top;\n    }\n\n    .dataframe thead th {\n        text-align: right;\n    }\n</style>\n<table border=\"1\" class=\"dataframe\">\n  <thead>\n    <tr style=\"text-align: right;\">\n      <th></th>\n      <th>fips</th>\n      <th>vaccine_hesitant</th>\n      <th>vaccine_hesitant_strong</th>\n      <th>social_vulnerability_index</th>\n      <th>county_name</th>\n      <th>state</th>\n      <th>ethnicity_hispanic</th>\n      <th>ethnicity_native</th>\n      <th>ethnicity_asian</th>\n      <th>ethnicity_black</th>\n      <th>...</th>\n      <th>unemployment</th>\n      <th>rural_urban_code</th>\n      <th>urban_influence_code</th>\n      <th>median_income_percent_state</th>\n      <th>median_income</th>\n      <th>poverty</th>\n      <th>education_high_school_less</th>\n      <th>education_high_school_only</th>\n      <th>education_degree_some</th>\n      <th>education_bachelors_degree</th>\n    </tr>\n  </thead>\n  <tbody>\n    <tr>\n      <th>0</th>\n      <td>1131</td>\n      <td>0.23</td>\n      <td>0.11</td>\n      <td>0.93</td>\n      <td>Wilcox County, Alabama</td>\n      <td>ALABAMA</td>\n      <td>0.0053</td>\n      <td>0.0009</td>\n      <td>0.0003</td>\n      <td>0.6938</td>\n      <td>...</td>\n      <td>0.071</td>\n      <td>9.0</td>\n      <td>10.0</td>\n      <td>0.598752</td>\n      <td>30998.0</td>\n      <td>0.325</td>\n      <td>0.235</td>\n      <td>0.395</td>\n      <td>0.245</td>\n      <td>0.125</td>\n    </tr>\n    <tr>\n      <th>1</th>\n      <td>1129</td>\n      <td>0.23</td>\n      <td>0.11</td>\n      <td>0.73</td>\n      <td>Washington County, Alabama</td>\n      <td>ALABAMA</td>\n      <td>0.0146</td>\n      <td>0.0731</td>\n      <td>0.0025</td>\n      <td>0.2354</td>\n      <td>...</td>\n      <td>0.046</td>\n      <td>8.0</td>\n      <td>7.0</td>\n      <td>0.943849</td>\n      <td>48864.0</td>\n      <td>0.186</td>\n      <td>0.174</td>\n      <td>0.431</td>\n      <td>0.269</td>\n      <td>0.127</td>\n    </tr>\n    <tr>\n      <th>2</th>\n      <td>1133</td>\n      <td>0.22</td>\n      <td>0.11</td>\n      <td>0.70</td>\n      <td>Winston County, Alabama</td>\n      <td>ALABAMA</td>\n      <td>0.0315</td>\n      <td>0.0034</td>\n      <td>0.0016</td>\n      <td>0.0073</td>\n      <td>...</td>\n      <td>0.033</td>\n      <td>6.0</td>\n      <td>4.0</td>\n      <td>0.788608</td>\n      <td>40827.0</td>\n      <td>0.167</td>\n      <td>0.212</td>\n      <td>0.382</td>\n      <td>0.278</td>\n      <td>0.128</td>\n    </tr>\n    <tr>\n      <th>3</th>\n      <td>1127</td>\n      <td>0.23</td>\n      <td>0.11</td>\n      <td>0.75</td>\n      <td>Walker County, Alabama</td>\n      <td>ALABAMA</td>\n      <td>0.0249</td>\n      <td>0.0015</td>\n      <td>0.0049</td>\n      <td>0.0617</td>\n      <td>...</td>\n      <td>0.033</td>\n      <td>1.0</td>\n      <td>1.0</td>\n      <td>0.888354</td>\n      <td>45991.0</td>\n      <td>0.173</td>\n      <td>0.182</td>\n      <td>0.375</td>\n      <td>0.330</td>\n      <td>0.113</td>\n    </tr>\n    <tr>\n      <th>4</th>\n      <td>2013</td>\n      <td>0.26</td>\n      <td>0.12</td>\n      <td>0.58</td>\n      <td>Aleutians East Borough, Alaska</td>\n      <td>ALASKA</td>\n      <td>0.0901</td>\n      <td>0.4588</td>\n      <td>0.1968</td>\n      <td>0.0322</td>\n      <td>...</td>\n      <td>0.028</td>\n      <td>9.0</td>\n      <td>12.0</td>\n      <td>0.866845</td>\n      <td>66923.0</td>\n      <td>0.148</td>\n      <td>0.145</td>\n      <td>0.435</td>\n      <td>0.305</td>\n      <td>0.115</td>\n    </tr>\n    <tr>\n      <th>...</th>\n      <td>...</td>\n      <td>...</td>\n      <td>...</td>\n      <td>...</td>\n      <td>...</td>\n      <td>...</td>\n      <td>...</td>\n      <td>...</td>\n      <td>...</td>\n      <td>...</td>\n      <td>...</td>\n      <td>...</td>\n      <td>...</td>\n      <td>...</td>\n      <td>...</td>\n      <td>...</td>\n      <td>...</td>\n      <td>...</td>\n      <td>...</td>\n      <td>...</td>\n      <td>...</td>\n    </tr>\n    <tr>\n      <th>3136</th>\n      <td>55079</td>\n      <td>0.18</td>\n      <td>0.11</td>\n      <td>0.81</td>\n      <td>Milwaukee County, Wisconsin</td>\n      <td>WISCONSIN</td>\n      <td>0.1500</td>\n      <td>0.0047</td>\n      <td>0.0428</td>\n      <td>0.2606</td>\n      <td>...</td>\n      <td>0.040</td>\n      <td>1.0</td>\n      <td>1.0</td>\n      <td>0.833710</td>\n      <td>53505.0</td>\n      <td>0.169</td>\n      <td>0.117</td>\n      <td>0.284</td>\n      <td>0.290</td>\n      <td>0.310</td>\n    </tr>\n    <tr>\n      <th>3137</th>\n      <td>55121</td>\n      <td>0.18</td>\n      <td>0.10</td>\n      <td>0.28</td>\n      <td>Trempealeau County, Wisconsin</td>\n      <td>WISCONSIN</td>\n      <td>0.0840</td>\n      <td>0.0034</td>\n      <td>0.0043</td>\n      <td>0.0051</td>\n      <td>...</td>\n      <td>0.036</td>\n      <td>6.0</td>\n      <td>6.0</td>\n      <td>0.961201</td>\n      <td>61687.0</td>\n      <td>0.089</td>\n      <td>0.093</td>\n      <td>0.390</td>\n      <td>0.324</td>\n      <td>0.193</td>\n    </tr>\n    <tr>\n      <th>3138</th>\n      <td>56001</td>\n      <td>0.30</td>\n      <td>0.16</td>\n      <td>0.25</td>\n      <td>Albany County, Wyoming</td>\n      <td>WYOMING</td>\n      <td>0.0953</td>\n      <td>0.0091</td>\n      <td>0.0327</td>\n      <td>0.0150</td>\n      <td>...</td>\n      <td>0.031</td>\n      <td>4.0</td>\n      <td>5.0</td>\n      <td>0.789334</td>\n      <td>52216.0</td>\n      <td>0.160</td>\n      <td>0.041</td>\n      <td>0.147</td>\n      <td>0.295</td>\n      <td>0.518</td>\n    </tr>\n    <tr>\n      <th>3139</th>\n      <td>55067</td>\n      <td>0.17</td>\n      <td>0.10</td>\n      <td>0.35</td>\n      <td>Langlade County, Wisconsin</td>\n      <td>WISCONSIN</td>\n      <td>0.0197</td>\n      <td>0.0069</td>\n      <td>0.0022</td>\n      <td>0.0125</td>\n      <td>...</td>\n      <td>0.042</td>\n      <td>6.0</td>\n      <td>6.0</td>\n      <td>0.772816</td>\n      <td>49597.0</td>\n      <td>0.130</td>\n      <td>0.097</td>\n      <td>0.423</td>\n      <td>0.313</td>\n      <td>0.167</td>\n    </tr>\n    <tr>\n      <th>3140</th>\n      <td>55099</td>\n      <td>0.17</td>\n      <td>0.10</td>\n      <td>0.16</td>\n      <td>Price County, Wisconsin</td>\n      <td>WISCONSIN</td>\n      <td>0.0177</td>\n      <td>0.0096</td>\n      <td>0.0060</td>\n      <td>0.0083</td>\n      <td>...</td>\n      <td>0.044</td>\n      <td>9.0</td>\n      <td>12.0</td>\n      <td>0.759789</td>\n      <td>48761.0</td>\n      <td>0.149</td>\n      <td>0.082</td>\n      <td>0.404</td>\n      <td>0.349</td>\n      <td>0.165</td>\n    </tr>\n  </tbody>\n</table>\n<p>3141 rows × 22 columns</p>\n</div>"
     },
     "metadata": {},
     "execution_count": 31
    }
   ],
   "source": [
    "dfs = [df.set_index('fips') for df in [vaccine_hesitancy, social_vulnerability_index, ethnicity, unemployment, geography, income, poverty, education]]\n",
    "df = pd.concat(dfs, axis=1, join='inner').reset_index()\n",
    "df"
   ]
  },
  {
   "cell_type": "code",
   "execution_count": 57,
   "metadata": {},
   "outputs": [],
   "source": [
    "df.to_csv('datasets/clean/interim_clean_dataset_2021-05-21.csv')"
   ]
  }
 ]
}