{
 "metadata": {
  "language_info": {
   "codemirror_mode": {
    "name": "ipython",
    "version": 3
   },
   "file_extension": ".py",
   "mimetype": "text/x-python",
   "name": "python",
   "nbconvert_exporter": "python",
   "pygments_lexer": "ipython3",
   "version": "3.8.5"
  },
  "orig_nbformat": 2,
  "kernelspec": {
   "name": "python385jvsc74a57bd05aea97b5e7079df4d68890d4f84dd8e0ffa02e639b0a8d0b006dc5d8cc9ab7eb",
   "display_name": "Python 3.8.5 32-bit"
  },
  "metadata": {
   "interpreter": {
    "hash": "5aea97b5e7079df4d68890d4f84dd8e0ffa02e639b0a8d0b006dc5d8cc9ab7eb"
   }
  }
 },
 "nbformat": 4,
 "nbformat_minor": 2,
 "cells": [
  {
   "cell_type": "code",
   "execution_count": 2,
   "metadata": {},
   "outputs": [],
   "source": [
    "# Import necessary libraries\n",
    "import pandas as pd\n"
   ]
  },
  {
   "source": [
    "We want to clean and combine all of our various datasets and export it as one CSV. This will primarily involve dropping columns that we aren't interested in and merging onto a central Pandas DataFrame. After some exploratory analysis, we will determine what rows will beed to be dropped or interpolated."
   ],
   "cell_type": "markdown",
   "metadata": {}
  },
  {
   "cell_type": "code",
   "execution_count": 9,
   "metadata": {},
   "outputs": [
    {
     "output_type": "execute_result",
     "data": {
      "text/plain": [
       "   FIPS Code  Percent of adults with less than a high school diploma, 2015-19  \\\n",
       "0          0                                               12.0                 \n",
       "1       1000                                               13.8                 \n",
       "2       1001                                               11.5                 \n",
       "3       1003                                                9.2                 \n",
       "4       1005                                               26.8                 \n",
       "\n",
       "   Percent of adults with a high school diploma only, 2015-19  \\\n",
       "0                                               27.0            \n",
       "1                                               30.8            \n",
       "2                                               33.6            \n",
       "3                                               27.7            \n",
       "4                                               35.6            \n",
       "\n",
       "   Percent of adults completing some college or associate's degree, 2015-19  \\\n",
       "0                                               28.9                          \n",
       "1                                               29.9                          \n",
       "2                                               28.4                          \n",
       "3                                               31.3                          \n",
       "4                                               26.0                          \n",
       "\n",
       "   Percent of adults with a bachelor's degree or higher, 2015-19  \n",
       "0                                               32.1              \n",
       "1                                               25.5              \n",
       "2                                               26.6              \n",
       "3                                               31.9              \n",
       "4                                               11.6              "
      ],
      "text/html": "<div>\n<style scoped>\n    .dataframe tbody tr th:only-of-type {\n        vertical-align: middle;\n    }\n\n    .dataframe tbody tr th {\n        vertical-align: top;\n    }\n\n    .dataframe thead th {\n        text-align: right;\n    }\n</style>\n<table border=\"1\" class=\"dataframe\">\n  <thead>\n    <tr style=\"text-align: right;\">\n      <th></th>\n      <th>FIPS Code</th>\n      <th>Percent of adults with less than a high school diploma, 2015-19</th>\n      <th>Percent of adults with a high school diploma only, 2015-19</th>\n      <th>Percent of adults completing some college or associate's degree, 2015-19</th>\n      <th>Percent of adults with a bachelor's degree or higher, 2015-19</th>\n    </tr>\n  </thead>\n  <tbody>\n    <tr>\n      <th>0</th>\n      <td>0</td>\n      <td>12.0</td>\n      <td>27.0</td>\n      <td>28.9</td>\n      <td>32.1</td>\n    </tr>\n    <tr>\n      <th>1</th>\n      <td>1000</td>\n      <td>13.8</td>\n      <td>30.8</td>\n      <td>29.9</td>\n      <td>25.5</td>\n    </tr>\n    <tr>\n      <th>2</th>\n      <td>1001</td>\n      <td>11.5</td>\n      <td>33.6</td>\n      <td>28.4</td>\n      <td>26.6</td>\n    </tr>\n    <tr>\n      <th>3</th>\n      <td>1003</td>\n      <td>9.2</td>\n      <td>27.7</td>\n      <td>31.3</td>\n      <td>31.9</td>\n    </tr>\n    <tr>\n      <th>4</th>\n      <td>1005</td>\n      <td>26.8</td>\n      <td>35.6</td>\n      <td>26.0</td>\n      <td>11.6</td>\n    </tr>\n  </tbody>\n</table>\n</div>"
     },
     "metadata": {},
     "execution_count": 9
    }
   ],
   "source": [
    "education = pd.read_csv('datasets/raw/Education.csv')\n",
    "education = education[['FIPS Code', 'Percent of adults with less than a high school diploma, 2015-19', 'Percent of adults with a high school diploma only, 2015-19', \"Percent of adults completing some college or associate's degree, 2015-19\", \"Percent of adults with a bachelor's degree or higher, 2015-19\"]]\n",
    "education.head()"
   ]
  },
  {
   "cell_type": "code",
   "execution_count": 4,
   "metadata": {},
   "outputs": [
    {
     "output_type": "execute_result",
     "data": {
      "text/plain": [
       "      FIPStxt State                         Area_Name  \\\n",
       "0           0    US                     United States   \n",
       "1        1000    AL                           Alabama   \n",
       "2        1001    AL                    Autauga County   \n",
       "3        1003    AL                    Baldwin County   \n",
       "4        1005    AL                    Barbour County   \n",
       "...       ...   ...                               ...   \n",
       "3268    72145    PR  Vega Baja Municipio, Puerto Rico   \n",
       "3269    72147    PR    Vieques Municipio, Puerto Rico   \n",
       "3270    72149    PR   Villalba Municipio, Puerto Rico   \n",
       "3271    72151    PR    Yabucoa Municipio, Puerto Rico   \n",
       "3272    72153    PR      Yauco Municipio, Puerto Rico   \n",
       "\n",
       "      Rural-urban_Continuum Code_2003  Rural-urban_Continuum Code_2013  \\\n",
       "0                                 NaN                              NaN   \n",
       "1                                 NaN                              NaN   \n",
       "2                                 2.0                              2.0   \n",
       "3                                 4.0                              3.0   \n",
       "4                                 6.0                              6.0   \n",
       "...                               ...                              ...   \n",
       "3268                              1.0                              1.0   \n",
       "3269                              7.0                              7.0   \n",
       "3270                              2.0                              2.0   \n",
       "3271                              1.0                              1.0   \n",
       "3272                              3.0                              2.0   \n",
       "\n",
       "      Urban_Influence_Code_2003  Urban_Influence_Code_2013  \\\n",
       "0                           NaN                        NaN   \n",
       "1                           NaN                        NaN   \n",
       "2                           2.0                        2.0   \n",
       "3                           5.0                        2.0   \n",
       "4                           6.0                        6.0   \n",
       "...                         ...                        ...   \n",
       "3268                        1.0                        1.0   \n",
       "3269                       12.0                       12.0   \n",
       "3270                        2.0                        2.0   \n",
       "3271                        1.0                        1.0   \n",
       "3272                        2.0                        2.0   \n",
       "\n",
       "      Economic_typology_2015 CENSUS_2010_POP ESTIMATES_BASE_2010  ...  \\\n",
       "0                        NaN     308,745,538         308,758,105  ...   \n",
       "1                        NaN       4,779,736           4,780,125  ...   \n",
       "2                        0.0          54,571              54,597  ...   \n",
       "3                        5.0         182,265             182,265  ...   \n",
       "4                        3.0          27,457              27,455  ...   \n",
       "...                      ...             ...                 ...  ...   \n",
       "3268                     NaN          59,662              59,662  ...   \n",
       "3269                     NaN           9,301               9,301  ...   \n",
       "3270                     NaN          26,073              26,073  ...   \n",
       "3271                     NaN          37,941              37,941  ...   \n",
       "3272                     NaN          42,043              41,947  ...   \n",
       "\n",
       "     R_DOMESTIC_MIG_2019 R_NET_MIG_2011 R_NET_MIG_2012 R_NET_MIG_2013  \\\n",
       "0                    NaN            NaN            NaN            NaN   \n",
       "1                    1.9            0.6            1.2            1.5   \n",
       "2                    4.8            6.0           -6.2           -3.9   \n",
       "3                   24.0           16.6           17.5           22.8   \n",
       "4                   -5.7            0.3           -6.9           -8.1   \n",
       "...                  ...            ...            ...            ...   \n",
       "3268                 NaN            NaN            NaN            NaN   \n",
       "3269                 NaN            NaN            NaN            NaN   \n",
       "3270                 NaN            NaN            NaN            NaN   \n",
       "3271                 NaN            NaN            NaN            NaN   \n",
       "3272                 NaN            NaN            NaN            NaN   \n",
       "\n",
       "     R_NET_MIG_2014 R_NET_MIG_2015 R_NET_MIG_2016 R_NET_MIG_2017  \\\n",
       "0               NaN            NaN            NaN            NaN   \n",
       "1               0.6            0.6            0.7            1.1   \n",
       "2               2.0           -1.7            4.8            0.8   \n",
       "3              20.2           17.7           21.3           22.4   \n",
       "4              -5.1          -15.7          -18.2          -25.0   \n",
       "...             ...            ...            ...            ...   \n",
       "3268            NaN            NaN            NaN            NaN   \n",
       "3269            NaN            NaN            NaN            NaN   \n",
       "3270            NaN            NaN            NaN            NaN   \n",
       "3271            NaN            NaN            NaN            NaN   \n",
       "3272            NaN            NaN            NaN            NaN   \n",
       "\n",
       "     R_NET_MIG_2018 R_NET_MIG_2019  \n",
       "0               NaN            NaN  \n",
       "1               1.8            2.5  \n",
       "2               0.5            4.6  \n",
       "3              24.7           24.4  \n",
       "4              -8.8           -5.2  \n",
       "...             ...            ...  \n",
       "3268            NaN            NaN  \n",
       "3269            NaN            NaN  \n",
       "3270            NaN            NaN  \n",
       "3271            NaN            NaN  \n",
       "3272            NaN            NaN  \n",
       "\n",
       "[3273 rows x 165 columns]"
      ],
      "text/html": "<div>\n<style scoped>\n    .dataframe tbody tr th:only-of-type {\n        vertical-align: middle;\n    }\n\n    .dataframe tbody tr th {\n        vertical-align: top;\n    }\n\n    .dataframe thead th {\n        text-align: right;\n    }\n</style>\n<table border=\"1\" class=\"dataframe\">\n  <thead>\n    <tr style=\"text-align: right;\">\n      <th></th>\n      <th>FIPStxt</th>\n      <th>State</th>\n      <th>Area_Name</th>\n      <th>Rural-urban_Continuum Code_2003</th>\n      <th>Rural-urban_Continuum Code_2013</th>\n      <th>Urban_Influence_Code_2003</th>\n      <th>Urban_Influence_Code_2013</th>\n      <th>Economic_typology_2015</th>\n      <th>CENSUS_2010_POP</th>\n      <th>ESTIMATES_BASE_2010</th>\n      <th>...</th>\n      <th>R_DOMESTIC_MIG_2019</th>\n      <th>R_NET_MIG_2011</th>\n      <th>R_NET_MIG_2012</th>\n      <th>R_NET_MIG_2013</th>\n      <th>R_NET_MIG_2014</th>\n      <th>R_NET_MIG_2015</th>\n      <th>R_NET_MIG_2016</th>\n      <th>R_NET_MIG_2017</th>\n      <th>R_NET_MIG_2018</th>\n      <th>R_NET_MIG_2019</th>\n    </tr>\n  </thead>\n  <tbody>\n    <tr>\n      <th>0</th>\n      <td>0</td>\n      <td>US</td>\n      <td>United States</td>\n      <td>NaN</td>\n      <td>NaN</td>\n      <td>NaN</td>\n      <td>NaN</td>\n      <td>NaN</td>\n      <td>308,745,538</td>\n      <td>308,758,105</td>\n      <td>...</td>\n      <td>NaN</td>\n      <td>NaN</td>\n      <td>NaN</td>\n      <td>NaN</td>\n      <td>NaN</td>\n      <td>NaN</td>\n      <td>NaN</td>\n      <td>NaN</td>\n      <td>NaN</td>\n      <td>NaN</td>\n    </tr>\n    <tr>\n      <th>1</th>\n      <td>1000</td>\n      <td>AL</td>\n      <td>Alabama</td>\n      <td>NaN</td>\n      <td>NaN</td>\n      <td>NaN</td>\n      <td>NaN</td>\n      <td>NaN</td>\n      <td>4,779,736</td>\n      <td>4,780,125</td>\n      <td>...</td>\n      <td>1.9</td>\n      <td>0.6</td>\n      <td>1.2</td>\n      <td>1.5</td>\n      <td>0.6</td>\n      <td>0.6</td>\n      <td>0.7</td>\n      <td>1.1</td>\n      <td>1.8</td>\n      <td>2.5</td>\n    </tr>\n    <tr>\n      <th>2</th>\n      <td>1001</td>\n      <td>AL</td>\n      <td>Autauga County</td>\n      <td>2.0</td>\n      <td>2.0</td>\n      <td>2.0</td>\n      <td>2.0</td>\n      <td>0.0</td>\n      <td>54,571</td>\n      <td>54,597</td>\n      <td>...</td>\n      <td>4.8</td>\n      <td>6.0</td>\n      <td>-6.2</td>\n      <td>-3.9</td>\n      <td>2.0</td>\n      <td>-1.7</td>\n      <td>4.8</td>\n      <td>0.8</td>\n      <td>0.5</td>\n      <td>4.6</td>\n    </tr>\n    <tr>\n      <th>3</th>\n      <td>1003</td>\n      <td>AL</td>\n      <td>Baldwin County</td>\n      <td>4.0</td>\n      <td>3.0</td>\n      <td>5.0</td>\n      <td>2.0</td>\n      <td>5.0</td>\n      <td>182,265</td>\n      <td>182,265</td>\n      <td>...</td>\n      <td>24.0</td>\n      <td>16.6</td>\n      <td>17.5</td>\n      <td>22.8</td>\n      <td>20.2</td>\n      <td>17.7</td>\n      <td>21.3</td>\n      <td>22.4</td>\n      <td>24.7</td>\n      <td>24.4</td>\n    </tr>\n    <tr>\n      <th>4</th>\n      <td>1005</td>\n      <td>AL</td>\n      <td>Barbour County</td>\n      <td>6.0</td>\n      <td>6.0</td>\n      <td>6.0</td>\n      <td>6.0</td>\n      <td>3.0</td>\n      <td>27,457</td>\n      <td>27,455</td>\n      <td>...</td>\n      <td>-5.7</td>\n      <td>0.3</td>\n      <td>-6.9</td>\n      <td>-8.1</td>\n      <td>-5.1</td>\n      <td>-15.7</td>\n      <td>-18.2</td>\n      <td>-25.0</td>\n      <td>-8.8</td>\n      <td>-5.2</td>\n    </tr>\n    <tr>\n      <th>...</th>\n      <td>...</td>\n      <td>...</td>\n      <td>...</td>\n      <td>...</td>\n      <td>...</td>\n      <td>...</td>\n      <td>...</td>\n      <td>...</td>\n      <td>...</td>\n      <td>...</td>\n      <td>...</td>\n      <td>...</td>\n      <td>...</td>\n      <td>...</td>\n      <td>...</td>\n      <td>...</td>\n      <td>...</td>\n      <td>...</td>\n      <td>...</td>\n      <td>...</td>\n      <td>...</td>\n    </tr>\n    <tr>\n      <th>3268</th>\n      <td>72145</td>\n      <td>PR</td>\n      <td>Vega Baja Municipio, Puerto Rico</td>\n      <td>1.0</td>\n      <td>1.0</td>\n      <td>1.0</td>\n      <td>1.0</td>\n      <td>NaN</td>\n      <td>59,662</td>\n      <td>59,662</td>\n      <td>...</td>\n      <td>NaN</td>\n      <td>NaN</td>\n      <td>NaN</td>\n      <td>NaN</td>\n      <td>NaN</td>\n      <td>NaN</td>\n      <td>NaN</td>\n      <td>NaN</td>\n      <td>NaN</td>\n      <td>NaN</td>\n    </tr>\n    <tr>\n      <th>3269</th>\n      <td>72147</td>\n      <td>PR</td>\n      <td>Vieques Municipio, Puerto Rico</td>\n      <td>7.0</td>\n      <td>7.0</td>\n      <td>12.0</td>\n      <td>12.0</td>\n      <td>NaN</td>\n      <td>9,301</td>\n      <td>9,301</td>\n      <td>...</td>\n      <td>NaN</td>\n      <td>NaN</td>\n      <td>NaN</td>\n      <td>NaN</td>\n      <td>NaN</td>\n      <td>NaN</td>\n      <td>NaN</td>\n      <td>NaN</td>\n      <td>NaN</td>\n      <td>NaN</td>\n    </tr>\n    <tr>\n      <th>3270</th>\n      <td>72149</td>\n      <td>PR</td>\n      <td>Villalba Municipio, Puerto Rico</td>\n      <td>2.0</td>\n      <td>2.0</td>\n      <td>2.0</td>\n      <td>2.0</td>\n      <td>NaN</td>\n      <td>26,073</td>\n      <td>26,073</td>\n      <td>...</td>\n      <td>NaN</td>\n      <td>NaN</td>\n      <td>NaN</td>\n      <td>NaN</td>\n      <td>NaN</td>\n      <td>NaN</td>\n      <td>NaN</td>\n      <td>NaN</td>\n      <td>NaN</td>\n      <td>NaN</td>\n    </tr>\n    <tr>\n      <th>3271</th>\n      <td>72151</td>\n      <td>PR</td>\n      <td>Yabucoa Municipio, Puerto Rico</td>\n      <td>1.0</td>\n      <td>1.0</td>\n      <td>1.0</td>\n      <td>1.0</td>\n      <td>NaN</td>\n      <td>37,941</td>\n      <td>37,941</td>\n      <td>...</td>\n      <td>NaN</td>\n      <td>NaN</td>\n      <td>NaN</td>\n      <td>NaN</td>\n      <td>NaN</td>\n      <td>NaN</td>\n      <td>NaN</td>\n      <td>NaN</td>\n      <td>NaN</td>\n      <td>NaN</td>\n    </tr>\n    <tr>\n      <th>3272</th>\n      <td>72153</td>\n      <td>PR</td>\n      <td>Yauco Municipio, Puerto Rico</td>\n      <td>3.0</td>\n      <td>2.0</td>\n      <td>2.0</td>\n      <td>2.0</td>\n      <td>NaN</td>\n      <td>42,043</td>\n      <td>41,947</td>\n      <td>...</td>\n      <td>NaN</td>\n      <td>NaN</td>\n      <td>NaN</td>\n      <td>NaN</td>\n      <td>NaN</td>\n      <td>NaN</td>\n      <td>NaN</td>\n      <td>NaN</td>\n      <td>NaN</td>\n      <td>NaN</td>\n    </tr>\n  </tbody>\n</table>\n<p>3273 rows × 165 columns</p>\n</div>"
     },
     "metadata": {},
     "execution_count": 4
    }
   ],
   "source": []
  }
 ]
}