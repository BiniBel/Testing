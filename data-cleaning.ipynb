{
 "metadata": {
  "language_info": {
   "codemirror_mode": {
    "name": "ipython",
    "version": 3
   },
   "file_extension": ".py",
   "mimetype": "text/x-python",
   "name": "python",
   "nbconvert_exporter": "python",
   "pygments_lexer": "ipython3",
   "version": "3.8.5"
  },
  "orig_nbformat": 2,
  "kernelspec": {
   "name": "python385jvsc74a57bd05aea97b5e7079df4d68890d4f84dd8e0ffa02e639b0a8d0b006dc5d8cc9ab7eb",
   "display_name": "Python 3.8.5 32-bit"
  },
  "metadata": {
   "interpreter": {
    "hash": "5aea97b5e7079df4d68890d4f84dd8e0ffa02e639b0a8d0b006dc5d8cc9ab7eb"
   }
  }
 },
 "nbformat": 4,
 "nbformat_minor": 2,
 "cells": [
  {
   "cell_type": "code",
   "execution_count": 2,
   "metadata": {},
   "outputs": [],
   "source": [
    "# Import necessary libraries\n",
    "import pandas as pd"
   ]
  },
  {
   "source": [
    "We want to clean and combine all of our various datasets and export it as one CSV. This will primarily involve dropping columns that we aren't interested in and merging onto a central Pandas DataFrame. After some exploratory analysis, we will determine what rows will beed to be dropped or interpolated."
   ],
   "cell_type": "markdown",
   "metadata": {}
  },
  {
   "cell_type": "code",
   "execution_count": 6,
   "metadata": {},
   "outputs": [],
   "source": [
    "vaccine_hesitancy = pd.read_csv('datasets/raw/Vaccine_Hesitancy_for_COVID-19__County_and_local_estimates.csv').rename(columns = {'FIPS Code':'fips'})\n",
    "ethnicity = vaccine_hesitancy[['fips', 'Percent Hispanic', 'Percent non-Hispanic American Indian/Alaska Native', 'Percent non-Hispanic Asian', 'Percent non-Hispanic Black', 'Percent non-Hispanic Native Hawaiian/Pacific Islander', 'Percent non-Hispanic White']]\n",
    "social_vulnerability_index = vaccine_hesitancy[['fips', 'Social Vulnerability Index (SVI)', 'County Name', 'State']]\n",
    "vaccine_hesitancy = vaccine_hesitancy[['fips', 'Estimated hesitant', 'Estimated strongly hesitant']]"
   ]
  },
  {
   "cell_type": "code",
   "execution_count": 12,
   "metadata": {},
   "outputs": [
    {
     "output_type": "execute_result",
     "data": {
      "text/plain": [
       "   fips  Percent of adults with less than a high school diploma, 2015-19  \\\n",
       "0     0                                               12.0                 \n",
       "1  1000                                               13.8                 \n",
       "2  1001                                               11.5                 \n",
       "3  1003                                                9.2                 \n",
       "4  1005                                               26.8                 \n",
       "\n",
       "   Percent of adults with a high school diploma only, 2015-19  \\\n",
       "0                                               27.0            \n",
       "1                                               30.8            \n",
       "2                                               33.6            \n",
       "3                                               27.7            \n",
       "4                                               35.6            \n",
       "\n",
       "   Percent of adults completing some college or associate's degree, 2015-19  \\\n",
       "0                                               28.9                          \n",
       "1                                               29.9                          \n",
       "2                                               28.4                          \n",
       "3                                               31.3                          \n",
       "4                                               26.0                          \n",
       "\n",
       "   Percent of adults with a bachelor's degree or higher, 2015-19  \n",
       "0                                               32.1              \n",
       "1                                               25.5              \n",
       "2                                               26.6              \n",
       "3                                               31.9              \n",
       "4                                               11.6              "
      ],
      "text/html": "<div>\n<style scoped>\n    .dataframe tbody tr th:only-of-type {\n        vertical-align: middle;\n    }\n\n    .dataframe tbody tr th {\n        vertical-align: top;\n    }\n\n    .dataframe thead th {\n        text-align: right;\n    }\n</style>\n<table border=\"1\" class=\"dataframe\">\n  <thead>\n    <tr style=\"text-align: right;\">\n      <th></th>\n      <th>fips</th>\n      <th>Percent of adults with less than a high school diploma, 2015-19</th>\n      <th>Percent of adults with a high school diploma only, 2015-19</th>\n      <th>Percent of adults completing some college or associate's degree, 2015-19</th>\n      <th>Percent of adults with a bachelor's degree or higher, 2015-19</th>\n    </tr>\n  </thead>\n  <tbody>\n    <tr>\n      <th>0</th>\n      <td>0</td>\n      <td>12.0</td>\n      <td>27.0</td>\n      <td>28.9</td>\n      <td>32.1</td>\n    </tr>\n    <tr>\n      <th>1</th>\n      <td>1000</td>\n      <td>13.8</td>\n      <td>30.8</td>\n      <td>29.9</td>\n      <td>25.5</td>\n    </tr>\n    <tr>\n      <th>2</th>\n      <td>1001</td>\n      <td>11.5</td>\n      <td>33.6</td>\n      <td>28.4</td>\n      <td>26.6</td>\n    </tr>\n    <tr>\n      <th>3</th>\n      <td>1003</td>\n      <td>9.2</td>\n      <td>27.7</td>\n      <td>31.3</td>\n      <td>31.9</td>\n    </tr>\n    <tr>\n      <th>4</th>\n      <td>1005</td>\n      <td>26.8</td>\n      <td>35.6</td>\n      <td>26.0</td>\n      <td>11.6</td>\n    </tr>\n  </tbody>\n</table>\n</div>"
     },
     "metadata": {},
     "execution_count": 12
    }
   ],
   "source": [
    "education = pd.read_csv('datasets/raw/Education.csv')\n",
    "education = education[['FIPS Code', 'Percent of adults with less than a high school diploma, 2015-19', 'Percent of adults with a high school diploma only, 2015-19', \"Percent of adults completing some college or associate's degree, 2015-19\", \"Percent of adults with a bachelor's degree or higher, 2015-19\"]]\n",
    "education = education.rename(columns = {'FIPS Code': 'fips'})\n",
    "education.head()"
   ]
  },
  {
   "cell_type": "code",
   "execution_count": 11,
   "metadata": {},
   "outputs": [
    {
     "output_type": "execute_result",
     "data": {
      "text/plain": [
       "Attribute   fips  poverty_percent\n",
       "0              0             12.3\n",
       "1           1000             15.6\n",
       "2           1001             12.1\n",
       "3           1003             10.1\n",
       "4           1005             27.1\n",
       "...          ...              ...\n",
       "3188       56037              8.3\n",
       "3189       56039              6.0\n",
       "3190       56041              8.5\n",
       "3191       56043             11.1\n",
       "3192       56045             10.5\n",
       "\n",
       "[3193 rows x 2 columns]"
      ],
      "text/html": "<div>\n<style scoped>\n    .dataframe tbody tr th:only-of-type {\n        vertical-align: middle;\n    }\n\n    .dataframe tbody tr th {\n        vertical-align: top;\n    }\n\n    .dataframe thead th {\n        text-align: right;\n    }\n</style>\n<table border=\"1\" class=\"dataframe\">\n  <thead>\n    <tr style=\"text-align: right;\">\n      <th>Attribute</th>\n      <th>fips</th>\n      <th>poverty_percent</th>\n    </tr>\n  </thead>\n  <tbody>\n    <tr>\n      <th>0</th>\n      <td>0</td>\n      <td>12.3</td>\n    </tr>\n    <tr>\n      <th>1</th>\n      <td>1000</td>\n      <td>15.6</td>\n    </tr>\n    <tr>\n      <th>2</th>\n      <td>1001</td>\n      <td>12.1</td>\n    </tr>\n    <tr>\n      <th>3</th>\n      <td>1003</td>\n      <td>10.1</td>\n    </tr>\n    <tr>\n      <th>4</th>\n      <td>1005</td>\n      <td>27.1</td>\n    </tr>\n    <tr>\n      <th>...</th>\n      <td>...</td>\n      <td>...</td>\n    </tr>\n    <tr>\n      <th>3188</th>\n      <td>56037</td>\n      <td>8.3</td>\n    </tr>\n    <tr>\n      <th>3189</th>\n      <td>56039</td>\n      <td>6.0</td>\n    </tr>\n    <tr>\n      <th>3190</th>\n      <td>56041</td>\n      <td>8.5</td>\n    </tr>\n    <tr>\n      <th>3191</th>\n      <td>56043</td>\n      <td>11.1</td>\n    </tr>\n    <tr>\n      <th>3192</th>\n      <td>56045</td>\n      <td>10.5</td>\n    </tr>\n  </tbody>\n</table>\n<p>3193 rows × 2 columns</p>\n</div>"
     },
     "metadata": {},
     "execution_count": 11
    }
   ],
   "source": [
    "poverty = pd.read_csv('datasets/raw/PovertyEstimates.csv')\n",
    "poverty = poverty[['FIPStxt', 'Attribute', 'Value']].pivot(index='FIPStxt', columns='Attribute', values='Value').reset_index()\n",
    "poverty = poverty[['FIPStxt', 'PCTPOVALL_2019']].rename(columns = {'FIPStxt':'fips', 'PCTPOVALL_2019': 'poverty_percent'})\n",
    "poverty"
   ]
  },
  {
   "cell_type": "code",
   "execution_count": 5,
   "metadata": {},
   "outputs": [],
   "source": [
    "unemployment = pd.read_csv('datasets/raw/Unemployment.csv').pivot(index='fips_txt', columns='Attribute', values='Value').reset_index().rename(columns = {'fips_txt':'fips'})\n",
    "geography = unemployment[['fips', 'Rural_urban_continuum_code_2013', 'Urban_influence_code_2013']]\n",
    "\n",
    "income = unemployment[['fips', 'Med_HH_Income_Percent_of_State_Total_2019', 'Median_Household_Income_2019']]\n",
    "unemployment = unemployment[['fips', 'Unemployment_rate_2019']]\n"
   ]
  },
  {
   "cell_type": "code",
   "execution_count": 17,
   "metadata": {},
   "outputs": [
    {
     "output_type": "execute_result",
     "data": {
      "text/plain": [
       "       fips  Estimated hesitant  Estimated strongly hesitant  \\\n",
       "0      1131                0.23                         0.11   \n",
       "1      1129                0.23                         0.11   \n",
       "2      1133                0.22                         0.11   \n",
       "3      1127                0.23                         0.11   \n",
       "4      2013                0.26                         0.12   \n",
       "...     ...                 ...                          ...   \n",
       "3136  55079                0.18                         0.11   \n",
       "3137  55121                0.18                         0.10   \n",
       "3138  56001                0.30                         0.16   \n",
       "3139  55067                0.17                         0.10   \n",
       "3140  55099                0.17                         0.10   \n",
       "\n",
       "      Social Vulnerability Index (SVI)                     County Name  \\\n",
       "0                                 0.93          Wilcox County, Alabama   \n",
       "1                                 0.73      Washington County, Alabama   \n",
       "2                                 0.70         Winston County, Alabama   \n",
       "3                                 0.75          Walker County, Alabama   \n",
       "4                                 0.58  Aleutians East Borough, Alaska   \n",
       "...                                ...                             ...   \n",
       "3136                              0.81     Milwaukee County, Wisconsin   \n",
       "3137                              0.28   Trempealeau County, Wisconsin   \n",
       "3138                              0.25          Albany County, Wyoming   \n",
       "3139                              0.35      Langlade County, Wisconsin   \n",
       "3140                              0.16         Price County, Wisconsin   \n",
       "\n",
       "          State  Percent Hispanic  \\\n",
       "0       ALABAMA            0.0053   \n",
       "1       ALABAMA            0.0146   \n",
       "2       ALABAMA            0.0315   \n",
       "3       ALABAMA            0.0249   \n",
       "4        ALASKA            0.0901   \n",
       "...         ...               ...   \n",
       "3136  WISCONSIN            0.1500   \n",
       "3137  WISCONSIN            0.0840   \n",
       "3138    WYOMING            0.0953   \n",
       "3139  WISCONSIN            0.0197   \n",
       "3140  WISCONSIN            0.0177   \n",
       "\n",
       "      Percent non-Hispanic American Indian/Alaska Native  \\\n",
       "0                                                0.0009    \n",
       "1                                                0.0731    \n",
       "2                                                0.0034    \n",
       "3                                                0.0015    \n",
       "4                                                0.4588    \n",
       "...                                                 ...    \n",
       "3136                                             0.0047    \n",
       "3137                                             0.0034    \n",
       "3138                                             0.0091    \n",
       "3139                                             0.0069    \n",
       "3140                                             0.0096    \n",
       "\n",
       "      Percent non-Hispanic Asian  Percent non-Hispanic Black  ...  \\\n",
       "0                         0.0003                      0.6938  ...   \n",
       "1                         0.0025                      0.2354  ...   \n",
       "2                         0.0016                      0.0073  ...   \n",
       "3                         0.0049                      0.0617  ...   \n",
       "4                         0.1968                      0.0322  ...   \n",
       "...                          ...                         ...  ...   \n",
       "3136                      0.0428                      0.2606  ...   \n",
       "3137                      0.0043                      0.0051  ...   \n",
       "3138                      0.0327                      0.0150  ...   \n",
       "3139                      0.0022                      0.0125  ...   \n",
       "3140                      0.0060                      0.0083  ...   \n",
       "\n",
       "      Unemployment_rate_2019  Rural_urban_continuum_code_2013  \\\n",
       "0                        7.1                              9.0   \n",
       "1                        4.6                              8.0   \n",
       "2                        3.3                              6.0   \n",
       "3                        3.3                              1.0   \n",
       "4                        2.8                              9.0   \n",
       "...                      ...                              ...   \n",
       "3136                     4.0                              1.0   \n",
       "3137                     3.6                              6.0   \n",
       "3138                     3.1                              4.0   \n",
       "3139                     4.2                              6.0   \n",
       "3140                     4.4                              9.0   \n",
       "\n",
       "      Urban_influence_code_2013  Med_HH_Income_Percent_of_State_Total_2019  \\\n",
       "0                          10.0                                  59.875221   \n",
       "1                           7.0                                  94.384888   \n",
       "2                           4.0                                  78.860756   \n",
       "3                           1.0                                  88.835449   \n",
       "4                          12.0                                  86.684456   \n",
       "...                         ...                                        ...   \n",
       "3136                        1.0                                  83.370987   \n",
       "3137                        6.0                                  96.120102   \n",
       "3138                        5.0                                  78.933365   \n",
       "3139                        6.0                                  77.281578   \n",
       "3140                       12.0                                  75.978935   \n",
       "\n",
       "      Median_Household_Income_2019  poverty_percent  \\\n",
       "0                          30998.0             32.5   \n",
       "1                          48864.0             18.6   \n",
       "2                          40827.0             16.7   \n",
       "3                          45991.0             17.3   \n",
       "4                          66923.0             14.8   \n",
       "...                            ...              ...   \n",
       "3136                       53505.0             16.9   \n",
       "3137                       61687.0              8.9   \n",
       "3138                       52216.0             16.0   \n",
       "3139                       49597.0             13.0   \n",
       "3140                       48761.0             14.9   \n",
       "\n",
       "      Percent of adults with less than a high school diploma, 2015-19  \\\n",
       "0                                                  23.5                 \n",
       "1                                                  17.4                 \n",
       "2                                                  21.2                 \n",
       "3                                                  18.2                 \n",
       "4                                                  14.5                 \n",
       "...                                                 ...                 \n",
       "3136                                               11.7                 \n",
       "3137                                                9.3                 \n",
       "3138                                                4.1                 \n",
       "3139                                                9.7                 \n",
       "3140                                                8.2                 \n",
       "\n",
       "      Percent of adults with a high school diploma only, 2015-19  \\\n",
       "0                                                  39.5            \n",
       "1                                                  43.1            \n",
       "2                                                  38.2            \n",
       "3                                                  37.5            \n",
       "4                                                  43.5            \n",
       "...                                                 ...            \n",
       "3136                                               28.4            \n",
       "3137                                               39.0            \n",
       "3138                                               14.7            \n",
       "3139                                               42.3            \n",
       "3140                                               40.4            \n",
       "\n",
       "      Percent of adults completing some college or associate's degree, 2015-19  \\\n",
       "0                                                  24.5                          \n",
       "1                                                  26.9                          \n",
       "2                                                  27.8                          \n",
       "3                                                  33.0                          \n",
       "4                                                  30.5                          \n",
       "...                                                 ...                          \n",
       "3136                                               29.0                          \n",
       "3137                                               32.4                          \n",
       "3138                                               29.5                          \n",
       "3139                                               31.3                          \n",
       "3140                                               34.9                          \n",
       "\n",
       "      Percent of adults with a bachelor's degree or higher, 2015-19  \n",
       "0                                                  12.5              \n",
       "1                                                  12.7              \n",
       "2                                                  12.8              \n",
       "3                                                  11.3              \n",
       "4                                                  11.5              \n",
       "...                                                 ...              \n",
       "3136                                               31.0              \n",
       "3137                                               19.3              \n",
       "3138                                               51.8              \n",
       "3139                                               16.7              \n",
       "3140                                               16.5              \n",
       "\n",
       "[3141 rows x 22 columns]"
      ],
      "text/html": "<div>\n<style scoped>\n    .dataframe tbody tr th:only-of-type {\n        vertical-align: middle;\n    }\n\n    .dataframe tbody tr th {\n        vertical-align: top;\n    }\n\n    .dataframe thead th {\n        text-align: right;\n    }\n</style>\n<table border=\"1\" class=\"dataframe\">\n  <thead>\n    <tr style=\"text-align: right;\">\n      <th></th>\n      <th>fips</th>\n      <th>Estimated hesitant</th>\n      <th>Estimated strongly hesitant</th>\n      <th>Social Vulnerability Index (SVI)</th>\n      <th>County Name</th>\n      <th>State</th>\n      <th>Percent Hispanic</th>\n      <th>Percent non-Hispanic American Indian/Alaska Native</th>\n      <th>Percent non-Hispanic Asian</th>\n      <th>Percent non-Hispanic Black</th>\n      <th>...</th>\n      <th>Unemployment_rate_2019</th>\n      <th>Rural_urban_continuum_code_2013</th>\n      <th>Urban_influence_code_2013</th>\n      <th>Med_HH_Income_Percent_of_State_Total_2019</th>\n      <th>Median_Household_Income_2019</th>\n      <th>poverty_percent</th>\n      <th>Percent of adults with less than a high school diploma, 2015-19</th>\n      <th>Percent of adults with a high school diploma only, 2015-19</th>\n      <th>Percent of adults completing some college or associate's degree, 2015-19</th>\n      <th>Percent of adults with a bachelor's degree or higher, 2015-19</th>\n    </tr>\n  </thead>\n  <tbody>\n    <tr>\n      <th>0</th>\n      <td>1131</td>\n      <td>0.23</td>\n      <td>0.11</td>\n      <td>0.93</td>\n      <td>Wilcox County, Alabama</td>\n      <td>ALABAMA</td>\n      <td>0.0053</td>\n      <td>0.0009</td>\n      <td>0.0003</td>\n      <td>0.6938</td>\n      <td>...</td>\n      <td>7.1</td>\n      <td>9.0</td>\n      <td>10.0</td>\n      <td>59.875221</td>\n      <td>30998.0</td>\n      <td>32.5</td>\n      <td>23.5</td>\n      <td>39.5</td>\n      <td>24.5</td>\n      <td>12.5</td>\n    </tr>\n    <tr>\n      <th>1</th>\n      <td>1129</td>\n      <td>0.23</td>\n      <td>0.11</td>\n      <td>0.73</td>\n      <td>Washington County, Alabama</td>\n      <td>ALABAMA</td>\n      <td>0.0146</td>\n      <td>0.0731</td>\n      <td>0.0025</td>\n      <td>0.2354</td>\n      <td>...</td>\n      <td>4.6</td>\n      <td>8.0</td>\n      <td>7.0</td>\n      <td>94.384888</td>\n      <td>48864.0</td>\n      <td>18.6</td>\n      <td>17.4</td>\n      <td>43.1</td>\n      <td>26.9</td>\n      <td>12.7</td>\n    </tr>\n    <tr>\n      <th>2</th>\n      <td>1133</td>\n      <td>0.22</td>\n      <td>0.11</td>\n      <td>0.70</td>\n      <td>Winston County, Alabama</td>\n      <td>ALABAMA</td>\n      <td>0.0315</td>\n      <td>0.0034</td>\n      <td>0.0016</td>\n      <td>0.0073</td>\n      <td>...</td>\n      <td>3.3</td>\n      <td>6.0</td>\n      <td>4.0</td>\n      <td>78.860756</td>\n      <td>40827.0</td>\n      <td>16.7</td>\n      <td>21.2</td>\n      <td>38.2</td>\n      <td>27.8</td>\n      <td>12.8</td>\n    </tr>\n    <tr>\n      <th>3</th>\n      <td>1127</td>\n      <td>0.23</td>\n      <td>0.11</td>\n      <td>0.75</td>\n      <td>Walker County, Alabama</td>\n      <td>ALABAMA</td>\n      <td>0.0249</td>\n      <td>0.0015</td>\n      <td>0.0049</td>\n      <td>0.0617</td>\n      <td>...</td>\n      <td>3.3</td>\n      <td>1.0</td>\n      <td>1.0</td>\n      <td>88.835449</td>\n      <td>45991.0</td>\n      <td>17.3</td>\n      <td>18.2</td>\n      <td>37.5</td>\n      <td>33.0</td>\n      <td>11.3</td>\n    </tr>\n    <tr>\n      <th>4</th>\n      <td>2013</td>\n      <td>0.26</td>\n      <td>0.12</td>\n      <td>0.58</td>\n      <td>Aleutians East Borough, Alaska</td>\n      <td>ALASKA</td>\n      <td>0.0901</td>\n      <td>0.4588</td>\n      <td>0.1968</td>\n      <td>0.0322</td>\n      <td>...</td>\n      <td>2.8</td>\n      <td>9.0</td>\n      <td>12.0</td>\n      <td>86.684456</td>\n      <td>66923.0</td>\n      <td>14.8</td>\n      <td>14.5</td>\n      <td>43.5</td>\n      <td>30.5</td>\n      <td>11.5</td>\n    </tr>\n    <tr>\n      <th>...</th>\n      <td>...</td>\n      <td>...</td>\n      <td>...</td>\n      <td>...</td>\n      <td>...</td>\n      <td>...</td>\n      <td>...</td>\n      <td>...</td>\n      <td>...</td>\n      <td>...</td>\n      <td>...</td>\n      <td>...</td>\n      <td>...</td>\n      <td>...</td>\n      <td>...</td>\n      <td>...</td>\n      <td>...</td>\n      <td>...</td>\n      <td>...</td>\n      <td>...</td>\n      <td>...</td>\n    </tr>\n    <tr>\n      <th>3136</th>\n      <td>55079</td>\n      <td>0.18</td>\n      <td>0.11</td>\n      <td>0.81</td>\n      <td>Milwaukee County, Wisconsin</td>\n      <td>WISCONSIN</td>\n      <td>0.1500</td>\n      <td>0.0047</td>\n      <td>0.0428</td>\n      <td>0.2606</td>\n      <td>...</td>\n      <td>4.0</td>\n      <td>1.0</td>\n      <td>1.0</td>\n      <td>83.370987</td>\n      <td>53505.0</td>\n      <td>16.9</td>\n      <td>11.7</td>\n      <td>28.4</td>\n      <td>29.0</td>\n      <td>31.0</td>\n    </tr>\n    <tr>\n      <th>3137</th>\n      <td>55121</td>\n      <td>0.18</td>\n      <td>0.10</td>\n      <td>0.28</td>\n      <td>Trempealeau County, Wisconsin</td>\n      <td>WISCONSIN</td>\n      <td>0.0840</td>\n      <td>0.0034</td>\n      <td>0.0043</td>\n      <td>0.0051</td>\n      <td>...</td>\n      <td>3.6</td>\n      <td>6.0</td>\n      <td>6.0</td>\n      <td>96.120102</td>\n      <td>61687.0</td>\n      <td>8.9</td>\n      <td>9.3</td>\n      <td>39.0</td>\n      <td>32.4</td>\n      <td>19.3</td>\n    </tr>\n    <tr>\n      <th>3138</th>\n      <td>56001</td>\n      <td>0.30</td>\n      <td>0.16</td>\n      <td>0.25</td>\n      <td>Albany County, Wyoming</td>\n      <td>WYOMING</td>\n      <td>0.0953</td>\n      <td>0.0091</td>\n      <td>0.0327</td>\n      <td>0.0150</td>\n      <td>...</td>\n      <td>3.1</td>\n      <td>4.0</td>\n      <td>5.0</td>\n      <td>78.933365</td>\n      <td>52216.0</td>\n      <td>16.0</td>\n      <td>4.1</td>\n      <td>14.7</td>\n      <td>29.5</td>\n      <td>51.8</td>\n    </tr>\n    <tr>\n      <th>3139</th>\n      <td>55067</td>\n      <td>0.17</td>\n      <td>0.10</td>\n      <td>0.35</td>\n      <td>Langlade County, Wisconsin</td>\n      <td>WISCONSIN</td>\n      <td>0.0197</td>\n      <td>0.0069</td>\n      <td>0.0022</td>\n      <td>0.0125</td>\n      <td>...</td>\n      <td>4.2</td>\n      <td>6.0</td>\n      <td>6.0</td>\n      <td>77.281578</td>\n      <td>49597.0</td>\n      <td>13.0</td>\n      <td>9.7</td>\n      <td>42.3</td>\n      <td>31.3</td>\n      <td>16.7</td>\n    </tr>\n    <tr>\n      <th>3140</th>\n      <td>55099</td>\n      <td>0.17</td>\n      <td>0.10</td>\n      <td>0.16</td>\n      <td>Price County, Wisconsin</td>\n      <td>WISCONSIN</td>\n      <td>0.0177</td>\n      <td>0.0096</td>\n      <td>0.0060</td>\n      <td>0.0083</td>\n      <td>...</td>\n      <td>4.4</td>\n      <td>9.0</td>\n      <td>12.0</td>\n      <td>75.978935</td>\n      <td>48761.0</td>\n      <td>14.9</td>\n      <td>8.2</td>\n      <td>40.4</td>\n      <td>34.9</td>\n      <td>16.5</td>\n    </tr>\n  </tbody>\n</table>\n<p>3141 rows × 22 columns</p>\n</div>"
     },
     "metadata": {},
     "execution_count": 17
    }
   ],
   "source": [
    "dfs = [df.set_index('fips') for df in [vaccine_hesitancy, social_vulnerability_index, ethnicity, unemployment, geography, income, poverty, education]]\n",
    "df = pd.concat(dfs, axis=1, join='inner').reset_index()\n",
    "df"
   ]
  }
 ]
}